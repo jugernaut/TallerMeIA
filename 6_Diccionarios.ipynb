{
 "cells": [
  {
   "cell_type": "markdown",
   "id": "a4d795ac-c8bd-4451-8d1d-4a0a088d18b7",
   "metadata": {},
   "source": [
    "<h1 style=\"text-align: center; font-size: 3em; margin-bottom: 0.5em;\">\n",
    "  Evaluación de diccionarios\n",
    "</h1> \n",
    "\n",
    "\n",
    "La evaluación de **diccionarios** se utiliza para validar objetos de tipo `dict`, comprobando su longitud, las claves y cada uno de sus valores. Admite tanto valores numéricos como cadenas de texto.\n",
    "\n",
    "**¿Cómo funciona?**  \n",
    "- Comprueba la longitud del diccionario, las claves y cada uno de los valores.  \n",
    "- Utiliza varios identificadores internos (por ejemplo, `'5_len'`, `'5_key'`, `'5_val_0'`, etc.) para desglosar y validar cada parte.  \n",
    "\n",
    "**¿Qué se puede personalizar?**  \n",
    "- El tipo de claves y valores a evaluar (numéricos o texto).  \n",
    "- El modo de comparación (`numeric=True/False`).\n",
    "\n",
    "---\n"
   ]
  },
  {
   "cell_type": "markdown",
   "id": "c091ffcb-20f6-4cb2-af9a-a4ddf5ca57c0",
   "metadata": {
    "editable": true,
    "slideshow": {
     "slide_type": ""
    },
    "tags": []
   },
   "source": [
    "\n",
    "## ¿Cómo se utiliza la evaluación de diccionarios numéricos?\n",
    "\n",
    "Para validar que el usuario entregue un diccionario con las mismas claves y valores (numéricos), se debe de ajustar dos pasos en tu flujo de trabajo:\n",
    "\n",
    "1. **Registrar el diccionario de referencia**  \n",
    "   Después de crear `FileAnswer()` y antes de llamar a `.to_file()`, define el diccionario correcto:\n",
    "\n",
    "   ```python\n",
    "   # 1) Definir la respuesta de referencia para el ejercicio '5'\n",
    "   file_answer.write(\n",
    "       '5',                              # → ID del ejercicio\n",
    "       {1: 2.0, 2: 4.0},                 # → diccionario de referencia\n",
    "       'Comprueba claves y valores.'     # → mensaje si el alumno falla\n",
    "   )\n",
    "\n",
    "    ```\n",
    "\n",
    "2. **Al evaluar la respuesta del usuario**\n",
    "\n",
    "    ```python\n",
    "    quiz.eval_dict(\n",
    "        '5',                              # → mismo ID de ejercicio que usaste arriba\n",
    "        respuesta_alumno,                 # → dict que envió el estudiante\n",
    "        numeric=True                      # → compara valores numéricos\n",
    "    )\n",
    "    ```\n"
   ]
  },
  {
   "cell_type": "markdown",
   "id": "1205dcfe-f720-4ada-ba3e-1ff6aaea95b2",
   "metadata": {},
   "source": [
    "## Ejemplos: evaluación de Estructuras de datos\n",
    "\n",
    "A continuación se presentan ejemplos para el tipo de Estructuras de datos\n",
    "\n",
    "---"
   ]
  },
  {
   "cell_type": "code",
   "execution_count": 1,
   "id": "5356bec2-e34a-4111-ad70-552a0faa4b53",
   "metadata": {},
   "outputs": [],
   "source": [
    "# Importamos los módulos necesarios para poder hacer uso de la biblioteca de MACTI\n",
    "from macti.eval import FileAnswer, Quiz \n",
    "import sympy as sy\n",
    "import numpy as np\n",
    "import pandas as pd"
   ]
  },
  {
   "cell_type": "code",
   "execution_count": 4,
   "id": "c99e22e4-8fe3-4146-9e5f-ab7a58b495ab",
   "metadata": {},
   "outputs": [
    {
     "name": "stdout",
     "output_type": "stream",
     "text": [
      "El directorio :/home/jovyan/MACTI_LIB/.ans/Eval/ ya existe\n",
      "Respuestas y retroalimentación almacenadas.\n"
     ]
    }
   ],
   "source": [
    "# --- 1) Registrar diccionarios de referencia ---\n",
    "file_answer = FileAnswer()\n",
    "\n",
    "# Ejercicio '5': diccionario numérico\n",
    "file_answer.write(\n",
    "    '5',\n",
    "    {1: 3.446, 2: 5.6423, 3: 2.234324},\n",
    "    'Checa las claves y valores numéricos.'\n",
    ")\n",
    "\n",
    "# Ejercicio '14': otro diccionario numérico\n",
    "file_answer.write(\n",
    "    '14',\n",
    "    {10: 0.123, 20: 0.456, 30: 0.789},\n",
    "    'Verifica tus valores flotantes.'\n",
    ")\n",
    "\n",
    "# Ejercicio '15': diccionario con claves de texto y valores numéricos\n",
    "file_answer.write(\n",
    "    '15',\n",
    "    {'k1': 1, 'k2': 2, 'k3': 3},\n",
    "    'Asegúrate de usar las mismas claves y valores numéricos.'\n",
    ")\n",
    "\n",
    "# Ejercicio '16': diccionario de texto (comparación exacta)\n",
    "file_answer.write(\n",
    "    '16',\n",
    "    {'a': 'hola', 'b': 'mundo'},\n",
    "    'Comprueba tus cadenas de texto.'\n",
    ")\n",
    "\n",
    "# Ejercicio '18': diccionario con listas numéricas como valores\n",
    "#file_answer.write(\n",
    " #   '18',\n",
    " #   {1: [1, 2], 2: [3, 4]},\n",
    " #   'Revisa cada lista de valores numéricos.'\n",
    "#)\n",
    "\n",
    "# Exportar respuestas y feedback a Parquet\n",
    "file_answer.to_file('demo_dict_extended_01')\n"
   ]
  },
  {
   "cell_type": "code",
   "execution_count": 5,
   "id": "b8f16f02-9989-4e3c-a53b-4f9e04b70c08",
   "metadata": {},
   "outputs": [
    {
     "name": "stdout",
     "output_type": "stream",
     "text": [
      "\u001b[39m――――――――――――――――――――――――――――――――――――――――\n",
      "\u001b[32m5_val_2 | Tu resultado es correcto.\n",
      "\u001b[39m――――――――――――――――――――――――――――――――――――――――\n",
      "\u001b[39m――――――――――――――――――――――――――――――――――――――――\n",
      "\u001b[32m14_val_2 | Tu resultado es correcto.\n",
      "\u001b[39m――――――――――――――――――――――――――――――――――――――――\n",
      "\u001b[39m――――――――――――――――――――――――――――――――――――――――\n",
      "\u001b[32m15_val_2 | Tu resultado es correcto.\n",
      "\u001b[39m――――――――――――――――――――――――――――――――――――――――\n",
      "\u001b[39m――――――――――――――――――――――――――――――――――――――――\n",
      "\u001b[32m16_val_1 | Tu resultado es correcto.\n",
      "\u001b[39m――――――――――――――――――――――――――――――――――――――――\n"
     ]
    }
   ],
   "source": [
    "# --- 2) Evaluar diccionarios con Quiz ---\n",
    "\n",
    "quiz = Quiz(qnum='demo_dict_extended_01', server='local')\n",
    "\n",
    "# Ejercicio '5': diccionario numérico simple\n",
    "quiz.eval_dict('5', {1: 3.446, 2: 5.6423, 3: 2.234324}, numeric=True)\n",
    "\n",
    "# Ejercicio '14': otro diccionario de flotantes\n",
    "quiz.eval_dict('14', {10: 0.123, 20: 0.456, 30: 0.789}, numeric=True)\n",
    "\n",
    "# Ejercicio '15': diccionario con claves de texto y valores numéricos\n",
    "quiz.eval_dict('15', {'k1': 1, 'k2': 2, 'k3': 3}, numeric=True)\n",
    "\n",
    "# Ejercicio '16': diccionario de cadenas (comparación exacta)\n",
    "quiz.eval_dict('16', {'a': 'hola', 'b': 'mundo'}, numeric=False)\n",
    "\n",
    "# Ejercicio '18': diccionario con listas numéricas como valores\n",
    "# quiz.eval_dict('18', {1: [1, 2], 2: [3, 4]}, numeric=True)"
   ]
  },
  {
   "cell_type": "markdown",
   "id": "1509971e-a6fe-44bf-bcf0-2e8c553566ed",
   "metadata": {},
   "source": [
    "---\n",
    "## Conclusión: Evaluación de diccionarios\n",
    "\n",
    "La evaluación de diccionarios la biblioteca de **macti_lib**  permite:\n",
    "\n",
    "- **Definir de forma precisa** la “respuesta correcta” como un objeto `dict`, registrando tanto claves como valores.  \n",
    "- **Desglosar automáticamente** el dict en sub-IDs (`_len`, `_key`, `_val_i`) para validar por separado la longitud, las claves y cada valor.  \n",
    "- **Adaptarse a distintos tipos de datos**: con `numeric=True` compara valores numéricos (con tolerancia), y con `numeric=False` valida cadenas de texto de forma exacta.  \n",
    "- **Ofrecer feedback inmediato**: muestra en verde las validaciones correctas y en rojo los errores, indicando si faltó una clave, cambió un valor o hubo un problema de formato.  \n"
   ]
  }
 ],
 "metadata": {
  "kernelspec": {
   "display_name": "Python 3 (ipykernel)",
   "language": "python",
   "name": "python3"
  },
  "language_info": {
   "codemirror_mode": {
    "name": "ipython",
    "version": 3
   },
   "file_extension": ".py",
   "mimetype": "text/x-python",
   "name": "python",
   "nbconvert_exporter": "python",
   "pygments_lexer": "ipython3",
   "version": "3.11.6"
  }
 },
 "nbformat": 4,
 "nbformat_minor": 5
}
