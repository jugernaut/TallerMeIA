{
 "cells": [
  {
   "cell_type": "markdown",
   "id": "6ee01713-eb76-48b3-8751-c530f093bb1a",
   "metadata": {},
   "source": [
    "\n",
    "<h1 style=\"text-align: center; font-size: 3em; margin-bottom: 0.5em;\">\n",
    "  Evaluación de valores numéricos\n",
    "</h1> \n",
    "\n",
    "La evaluación de **valores numéricos** permite comprobar respuestas como:\n",
    "\n",
    "- Números simples (`int`, `float`)  \n",
    "- Números complejos (`complex`)  \n",
    "- Vectores y arreglos (`list`, `tuple`, `np.ndarray`)\n",
    "\n",
    "**¿Cómo funciona?**  \n",
    "- Compara la respuesta del usuario con los valores de referencia mediante tolerancia numérica (`np.allclose`).\n",
    "\n",
    "**¿Qué se puede personalizar?**  \n",
    "- El tipo de dato numérico o la estructura de datos evaluada.  \n",
    "\n",
    "---"
   ]
  },
  {
   "cell_type": "markdown",
   "id": "84c36c17-7872-45f5-af19-7ba3ffee7cee",
   "metadata": {},
   "source": [
    "## ¿Cómo se utiliza la evaluación numérica?\n",
    "\n",
    "Para usar este tipo de evaluación se debe de ajustar dos partes del flujo de trabajo:\n",
    "\n",
    "1. **Registrar el valor de referencia**  \n",
    "   Después de crear `FileAnswer()` y antes de llamar a `.to_file()`, escribe el valor correcto:\n",
    "\n",
    "   ```python\n",
    "   # 1) Definir el valor de referencia para el ejercicio '3'\n",
    "   file_answer.write(\n",
    "       '3',                            # → ID del ejercicio\n",
    "       valor_correcto,                 # → valor numérico de referencia (int, float, etc.)\n",
    "       'Aquí va tu feedback personalizado'  # → mensaje que verá el alumno si falla\n",
    "   )\n",
    "\n",
    "   ```\n",
    "   \n",
    "\n",
    "2. **Ejecutar la comparación con lo que envió el usuario**\n",
    "\n",
    "\n",
    "    ```python\n",
    "    quiz.eval_numeric(\n",
    "        '3',                           # → mismo ID de ejercicio que usaste arriba\n",
    "        respuesta_del_alumno           # → valor calculado por el estudiante\n",
    "    )\n",
    "\n",
    "    ```\n",
    "\n",
    "---"
   ]
  },
  {
   "cell_type": "markdown",
   "id": "07b845f8-2a6f-46be-83ac-be61730069cb",
   "metadata": {},
   "source": [
    "## Ejemplos: evaluación de valores númericos\n",
    "\n",
    "A continuación se presentan ejemplos para el tipo de valores númericos\n",
    "\n"
   ]
  },
  {
   "cell_type": "code",
   "execution_count": 1,
   "id": "8793032d-ae15-40e1-83b2-dffd94776d77",
   "metadata": {},
   "outputs": [],
   "source": [
    "# Importamos los módulos necesarios para poder hacer uso de la biblioteca de MACTI\n",
    "from macti.eval import FileAnswer, Quiz \n",
    "import sympy as sy\n",
    "import numpy as np\n",
    "import pandas as pd"
   ]
  },
  {
   "cell_type": "code",
   "execution_count": 2,
   "id": "5c68da7a-a3f3-4de1-863f-3782cf937874",
   "metadata": {},
   "outputs": [
    {
     "name": "stdout",
     "output_type": "stream",
     "text": [
      "El directorio :/home/jovyan/MACTI_LIB/.ans/Eval/ ya existe\n",
      "Respuestas y retroalimentación almacenadas.\n"
     ]
    }
   ],
   "source": [
    "# --- 1) Registrar valores de referencia numéricos ---\n",
    "\n",
    "file_answer = FileAnswer()\n",
    "\n",
    "# Ejercicio '4': valor float\n",
    "file_answer.write(\n",
    "    '4',\n",
    "    0.1,\n",
    "    'Calcula con mayor precisión.'\n",
    ")\n",
    "\n",
    "# Ejercicio '5': valor entero\n",
    "file_answer.write(\n",
    "    '5',\n",
    "    1,\n",
    "    'Verifica que sea un entero.'\n",
    ")\n",
    "\n",
    "# Ejercicio '6': valor booleano\n",
    "file_answer.write(\n",
    "    '6',\n",
    "    True,\n",
    "    'Recuerda distinguir True de False.'\n",
    ")\n",
    "\n",
    "# Ejercicio '7': número complejo\n",
    "file_answer.write(\n",
    "    '7',\n",
    "    1 + 5j,\n",
    "    'Comprueba las partes real e imaginaria.'\n",
    ")\n",
    "\n",
    "# Ejercicio '8': lista de números\n",
    "file_answer.write(\n",
    "    '8',\n",
    "    [0, 1, 3.4],\n",
    "    'Revisa cada elemento de la lista.'\n",
    ")\n",
    "\n",
    "# Ejercicio '12': conjunto numérico (el orden no importa)\n",
    "file_answer.write(\n",
    "    '12',\n",
    "    {1, 2, 3, 4, 5, 6},\n",
    "    'Asegúrate de incluir todos los elementos.'\n",
    ")\n",
    "\n",
    "# Ejercicio '17': arreglo NumPy\n",
    "w = np.sin(np.linspace(0, 1, 10))\n",
    "file_answer.write(\n",
    "    '17',\n",
    "    w,\n",
    "    'Comprueba tu arreglo numérico.'\n",
    ")\n",
    "\n",
    "# 1.8) Exportar a Parquet para que Quiz pueda leerlo\n",
    "file_answer.to_file('demo_numeric')\n"
   ]
  },
  {
   "cell_type": "code",
   "execution_count": 3,
   "id": "bedeac0d-ac8f-4ed2-a6ee-9b90968f70d9",
   "metadata": {},
   "outputs": [
    {
     "name": "stdout",
     "output_type": "stream",
     "text": [
      "\u001b[39m――――――――――――――――――――――――――――――――――――――――\n",
      "\u001b[32m4 | Tu resultado es correcto.\n",
      "\u001b[39m――――――――――――――――――――――――――――――――――――――――\n",
      "\u001b[39m――――――――――――――――――――――――――――――――――――――――\n",
      "\u001b[32m5 | Tu resultado es correcto.\n",
      "\u001b[39m――――――――――――――――――――――――――――――――――――――――\n",
      "\u001b[39m――――――――――――――――――――――――――――――――――――――――\n",
      "\u001b[32m6 | Tu resultado es correcto.\n",
      "\u001b[39m――――――――――――――――――――――――――――――――――――――――\n",
      "\u001b[39m――――――――――――――――――――――――――――――――――――――――\n",
      "\u001b[32m7 | Tu resultado es correcto.\n",
      "\u001b[39m――――――――――――――――――――――――――――――――――――――――\n",
      "\u001b[39m――――――――――――――――――――――――――――――――――――――――\n",
      "\u001b[32m8 | Tu resultado es correcto.\n",
      "\u001b[39m――――――――――――――――――――――――――――――――――――――――\n",
      "\u001b[39m――――――――――――――――――――――――――――――――――――――――\n",
      "\u001b[32m12 | Tu resultado es correcto.\n",
      "\u001b[39m――――――――――――――――――――――――――――――――――――――――\n",
      "\u001b[39m――――――――――――――――――――――――――――――――――――――――\n",
      "\u001b[32m17 | Tu resultado es correcto.\n",
      "\u001b[39m――――――――――――――――――――――――――――――――――――――――\n"
     ]
    }
   ],
   "source": [
    "# --- 2) Evaluar valores numéricos con Quiz ---\n",
    "\n",
    "quiz = Quiz(qnum='demo_numeric', server='local')\n",
    "\n",
    "# Flotante\n",
    "quiz.eval_numeric('4', 0.1)             # ✅ coincide exactamente\n",
    "# quiz.eval_numeric('4', 0.100001)      # ✅ dentro de la tolerancia\n",
    "\n",
    "# Entero\n",
    "quiz.eval_numeric('5', 1)               # ✅ coincide\n",
    "# quiz.eval_numeric('5', 0)             # ❌ lanza AssertionError\n",
    "\n",
    "# Booleano\n",
    "quiz.eval_numeric('6', True)            # ✅ coincide\n",
    "# quiz.eval_numeric('6', False)         # ❌ lanza AssertionError\n",
    "\n",
    "# Número complejo\n",
    "quiz.eval_numeric('7', 1 + 5j)          # ✅ coincide\n",
    "# quiz.eval_numeric('7', 1 + 4.9j)      # ❌ lanza AssertionError\n",
    "\n",
    "# Lista\n",
    "quiz.eval_numeric('8', [0, 1, 3.4])     # ✅ coincide\n",
    "# quiz.eval_numeric('8', [0, 1, 3.5])    # ❌ lanza AssertionError\n",
    "\n",
    "# Conjunto (el orden no importa)\n",
    "quiz.eval_numeric('12', {1, 2, 3, 4, 5, 6})  # ✅ coincide\n",
    "# quiz.eval_numeric('12', {1, 2, 3, 4, 5})      # ❌ lanza AssertionError\n",
    "\n",
    "# Arreglo de NumPy\n",
    "quiz.eval_numeric('17', w)              # ✅ coincide\n",
    "# quiz.eval_numeric('17', w + 0.001)     # ❌ fuera de tolerancia\n"
   ]
  },
  {
   "cell_type": "markdown",
   "id": "dee24374-93c9-419e-b572-650c1bbe6d23",
   "metadata": {},
   "source": [
    "---\n",
    "## Conclusión: Evaluación de valores numéricos\n",
    "\n",
    "Con la biblioteca de **macti_lib** la evaluación numérica en notebooks nos ofrece:\n",
    "\n",
    "- **Soporte versátil** para distintos tipos de datos: enteros, flotantes, booleanos, complejos, listas, conjuntos y arreglos NumPy.  \n",
    "- **Comparaciones con tolerancia** que permiten pequeñas variaciones (por ejemplo, en cálculos de punto flotante) sin penalizar respuestas válidas.  \n",
    "- **Feedback inmediato** y detallado: se muestran resultados correctos en verde y, en caso de error, en rojo con sugerencias específicas para corregir la respuesta.  \n"
   ]
  }
 ],
 "metadata": {
  "kernelspec": {
   "display_name": "Python 3 (ipykernel)",
   "language": "python",
   "name": "python3"
  },
  "language_info": {
   "codemirror_mode": {
    "name": "ipython",
    "version": 3
   },
   "file_extension": ".py",
   "mimetype": "text/x-python",
   "name": "python",
   "nbconvert_exporter": "python",
   "pygments_lexer": "ipython3",
   "version": "3.11.6"
  }
 },
 "nbformat": 4,
 "nbformat_minor": 5
}
