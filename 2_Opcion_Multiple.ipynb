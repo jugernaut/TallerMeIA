{
 "cells": [
  {
   "cell_type": "markdown",
   "id": "553d37d8-c924-47b4-8739-449782094694",
   "metadata": {},
   "source": [
    "\n",
    "<h1 style=\"text-align: center; font-size: 3em;\">\n",
    "  Evaluación de opción múltiple\n",
    "</h1>\n",
    "\n",
    "\n",
    "\n",
    "La **evaluación multiple** es util para validar si una respuesta elegida (como `'a'`, `'b'`, `'c'`) es correcta.\n",
    "\n",
    "**¿Cómo funciona?**\n",
    "\n",
    "\n",
    "- El usuario debe de proporcionar una letra/ opción como repuesta correcta.\n",
    "- Se compara la respuesta propociona por el usuario con la repsuesta previamente almacenada con `FileAnswer.write()`.\n",
    "- Si la respuesta coincide (ignorando mayúsculas/minúsculas y espacios), se considera correcta.\n",
    "- Si es incorrecta, se muestra retroalimentación y se lanza una excepción (error).\n",
    "\n",
    "<h2 style=\"font-size: 1.5em; margin-top: 1em;\">¿Qué se puede personalizar?</h2>\n",
    "\n",
    "- El texto de retroalimentación mostrado cuando la respuesta es incorrecta.\n",
    "\n",
    "---\n"
   ]
  },
  {
   "cell_type": "markdown",
   "id": "f802a673-1585-4f5b-887a-bfd072684115",
   "metadata": {},
   "source": [
    "## ¿Cómo se utiliza la evaluación de opción múltiple?\n",
    "\n",
    "Para usar este tipo de evaluación se debe de ajustar dos partes del flujo de trabajo:\n",
    "\n",
    "1. **Al registrar las respuestas correctas**  \n",
    "   Justo después de crear `FileAnswer()` y antes de llamar a `.to_file()`, define:\n",
    "\n",
    "   ```python\n",
    "   # 1) Definir la respuesta correcta para el ejercicio 1\n",
    "   file_answer.write(\n",
    "       '1',                # → ID del ejercicio\n",
    "       'c',                # → la opción correcta que quieres validar\n",
    "       'feedback personalizado'  # → mensaje que verá el alumno si falla\n",
    "   )\n",
    "\n",
    "    ```\n",
    "\n",
    "\n",
    "\n",
    "2. **Ejecutar la comparación con lo que envió el usuario**\n",
    "\n",
    "   ```python\n",
    "   quiz.eval_option(\n",
    "        '1',                # → el mismo ID de ejercicio que se uso al definir la respuesta\n",
    "        'respuesta_alumno'  # → la opción que el estudiante eligió (p. ej. 'a', 'b', 'c')\n",
    "    )\n",
    "    ```\n"
   ]
  },
  {
   "cell_type": "markdown",
   "id": "239dc77a-57ea-446d-8dc8-669cfcd20784",
   "metadata": {},
   "source": [
    "---\n",
    "## Ejemplos: evaluación de Opción Multiple\n",
    "\n",
    "A continuación se presentan ejemplos para el tipo de evaluación de Opción Multiple\n",
    "\n"
   ]
  },
  {
   "cell_type": "code",
   "execution_count": 5,
   "id": "fa5d1907-2a15-4471-9a2d-942889bf0968",
   "metadata": {},
   "outputs": [],
   "source": [
    "# Importamos los módulos necesarios para poder hacer uso de la biblioteca de MACTI\n",
    "from macti.eval import FileAnswer, Quiz \n",
    "import sympy as sy\n",
    "import numpy as np\n",
    "import pandas as pd"
   ]
  },
  {
   "cell_type": "code",
   "execution_count": 6,
   "id": "64aeda0d-c990-431e-8b95-f94353b61ce7",
   "metadata": {},
   "outputs": [
    {
     "name": "stdout",
     "output_type": "stream",
     "text": [
      "El directorio :/home/jovyan/MACTI_LIB/.ans/Eval/ ya existe\n",
      "Respuestas y retroalimentación almacenadas.\n"
     ]
    }
   ],
   "source": [
    "# 1) Inicializar FileAnswer y registrar varias preguntas de opción múltiple\n",
    "file_answer = FileAnswer()\n",
    "\n",
    "#    • '1' → ID del ejercicio; 'c' → respuesta correcta; mensaje de feedback si falla\n",
    "file_answer.write('1', 'c', 'Revisa tus opciones.')\n",
    "\n",
    "#    • '2' → ID del ejercicio; 'a' → respuesta correcta; mensaje de feedback si falla\n",
    "file_answer.write('2', 'a', 'Fíjate en la definición de la variable.')\n",
    "\n",
    "#    • '3' → ID del ejercicio; 'd' → respuesta correcta; mensaje de feedback si falla\n",
    "file_answer.write('3', 'd', 'Verifica la tabla de valores.')\n",
    "\n",
    "#    • '4' → ID del ejercicio; 'b' → respuesta correcta; mensaje de feedback si falla\n",
    "file_answer.write('4', 'b', 'Recuerda el ejemplo visto en clase.')\n",
    "\n",
    "# 2) Exportar todas las preguntas de opción múltiple a Parquet\n",
    "file_answer.to_file('demo_opcion_ext')\n",
    "\n",
    "# 3) Crear Quiz para evaluar estas preguntas\n",
    "quiz = Quiz(qnum='demo_opcion_ext', server='local')"
   ]
  },
  {
   "cell_type": "code",
   "execution_count": 7,
   "id": "e0149b88-d6de-4705-9006-bc93de1ef042",
   "metadata": {},
   "outputs": [
    {
     "name": "stdout",
     "output_type": "stream",
     "text": [
      "\u001b[39m――――――――――――――――――――――――――――――――――――――――\n",
      "\u001b[32m1 | Tu respuesta: \u001b[39mc\u001b[32m, es correcta.\n",
      "\u001b[39m――――――――――――――――――――――――――――――――――――――――\n",
      "\u001b[39m――――――――――――――――――――――――――――――――――――――――\n",
      "\u001b[32m2 | Tu respuesta: \u001b[39ma\u001b[32m, es correcta.\n",
      "\u001b[39m――――――――――――――――――――――――――――――――――――――――\n",
      "\u001b[39m――――――――――――――――――――――――――――――――――――――――\n",
      "\u001b[32m3 | Tu respuesta: \u001b[39md\u001b[32m, es correcta.\n",
      "\u001b[39m――――――――――――――――――――――――――――――――――――――――\n",
      "\u001b[39m――――――――――――――――――――――――――――――――――――――――\n",
      "\u001b[32m4 | Tu respuesta: \u001b[39mb\u001b[32m, es correcta.\n",
      "\u001b[39m――――――――――――――――――――――――――――――――――――――――\n"
     ]
    }
   ],
   "source": [
    "# 4) Evaluar respuestas de ejercicio 1\n",
    "quiz.eval_option('1', 'c')   # ✅ coincide con la respuesta registrada\n",
    "#quiz.eval_option('1', 'b')   # ❌ incorrecto → muestra \"Revisa tus opciones.\"\n",
    "\n",
    "# 5) Evaluar respuestas de ejercicio 2\n",
    "quiz.eval_option('2', 'a')   # ✅ coincide\n",
    "#quiz.eval_option('2', 'c')   # ❌ incorrecto → muestra \"Fíjate en la definición de la variable.\"\n",
    "\n",
    "# 6) Evaluar respuestas de ejercicio 3\n",
    "quiz.eval_option('3', 'd')   # ✅ coincide\n",
    "#quiz.eval_option('3', 'a')   # ❌ incorrecto → muestra \"Verifica la tabla de valores.\"\n",
    "\n",
    "# 7) Evaluar respuestas de ejercicio 4\n",
    "quiz.eval_option('4', 'b')   # ✅ coincide\n",
    "#quiz.eval_option('4', 'c')   # ❌ incorrecto → muestra \"Recuerda el ejemplo visto en clase.\""
   ]
  },
  {
   "cell_type": "markdown",
   "id": "66d0563c-b53a-4794-b545-5c407fdf7374",
   "metadata": {},
   "source": [
    "---\n",
    "## Conclusión: Evaluación de opción múltiple\n",
    "\n",
    "La evaluación de opción múltiple con **macti_lib** nos permite:\n",
    "\n",
    "- **Definir de forma sencilla** la respuesta correcta y el mensaje de ayuda para cada pregunta.  \n",
    "- **Automatizar** la comparación entre la opción elegida por el alumno y la respuesta de referencia, ahorrando tiempo en la corrección manual.  \n",
    "- **Proporcionar feedback inmediato**, mostrando en verde las respuestas correctas y en rojo las incorrectas, junto con sugerencias personalizadas.  \n",
    " \n"
   ]
  }
 ],
 "metadata": {
  "kernelspec": {
   "display_name": "Python 3 (ipykernel)",
   "language": "python",
   "name": "python3"
  },
  "language_info": {
   "codemirror_mode": {
    "name": "ipython",
    "version": 3
   },
   "file_extension": ".py",
   "mimetype": "text/x-python",
   "name": "python",
   "nbconvert_exporter": "python",
   "pygments_lexer": "ipython3",
   "version": "3.11.6"
  }
 },
 "nbformat": 4,
 "nbformat_minor": 5
}
