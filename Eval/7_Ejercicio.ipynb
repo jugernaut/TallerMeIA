{
 "cells": [
  {
   "cell_type": "markdown",
   "id": "c11e43bb",
   "metadata": {
    "editable": true,
    "nbgrader": {
     "grade": false,
     "grade_id": "cell-08081af55f04f1c9",
     "locked": true,
     "schema_version": 3,
     "solution": false,
     "task": false
    },
    "slideshow": {
     "slide_type": ""
    },
    "tags": []
   },
   "source": [
    "# Quiz: Evaluación de Ejercicios con FileAnswer y Quiz\n",
    "\n",
    "\n",
    "Este ejercicio simula una evaluación completa con múltiples tipos de preguntas.\n",
    "\n",
    "### Objetivo\n",
    "El estudiante deberá resolver y validar diferentes tipos de ejercicios:\n",
    "- Opción múltiple\n",
    "- Expresión simbólica\n",
    "- Valor numérico\n",
    "- Lista desordenada\n",
    "- Diccionario con claves y valores numéricos\n",
    "- \n",
    "Este notebook evalúa ejercicios usando las clases FileAnswer y Quiz.\n",
    "---"
   ]
  },
  {
   "cell_type": "markdown",
   "id": "796c2796-722a-4191-ab7f-1125ca3cf087",
   "metadata": {
    "nbgrader": {
     "grade": false,
     "grade_id": "cell-34ae80a3780618c6",
     "locked": true,
     "schema_version": 3,
     "solution": false,
     "task": false
    }
   },
   "source": [
    "## Importamos bibliotecas"
   ]
  },
  {
   "cell_type": "code",
   "execution_count": 79,
   "id": "28b73445",
   "metadata": {
    "nbgrader": {
     "grade": false,
     "grade_id": "cell-65f92af3e8950e79",
     "locked": true,
     "schema_version": 3,
     "solution": false,
     "task": false
    }
   },
   "outputs": [],
   "source": [
    "from macti.eval import FileAnswer, Quiz \n",
    "import sympy as sy\n",
    "import numpy as np\n",
    "import pandas as pd\n"
   ]
  },
  {
   "cell_type": "code",
   "execution_count": 90,
   "id": "9ceb1f39-8ed6-42ea-a89a-66c9f04ce0ed",
   "metadata": {
    "editable": true,
    "nbgrader": {
     "grade": false,
     "grade_id": "cell-6d429f74db840a1c",
     "locked": true,
     "schema_version": 3,
     "solution": false,
     "task": false
    },
    "slideshow": {
     "slide_type": ""
    },
    "tags": []
   },
   "outputs": [],
   "source": [
    "#quiz = Quiz(\"1\", \"MACTI_LIB\", \"local\")\n",
    "quiz = Quiz(qnum=\"1\", server=\"local\", spath=\"MACTI_LIB\")\n"
   ]
  },
  {
   "cell_type": "code",
   "execution_count": 80,
   "id": "5e9863f8",
   "metadata": {
    "nbgrader": {
     "grade": false,
     "grade_id": "cell-e8996618b91eee0a",
     "locked": true,
     "schema_version": 3,
     "solution": false,
     "task": false
    }
   },
   "outputs": [],
   "source": [
    "# Inicializar almacenamiento de respuestas\n",
    "file_answer = FileAnswer()"
   ]
  },
  {
   "cell_type": "markdown",
   "id": "d2842ffc-7061-42b6-96c7-1e14eba484f1",
   "metadata": {
    "nbgrader": {
     "grade": false,
     "grade_id": "cell-bc0f76b40ae06dd7",
     "locked": true,
     "schema_version": 3,
     "solution": false,
     "task": false
    }
   },
   "source": [
    "<div class=\"alert alert-success\">\n",
    "\n",
    "Ejercicio 1.1\n",
    "<font color=\"Black\">¿Cuál de las siguientes clases se usa para almacenar respuestas y feedback en MactiLib?.\n",
    "\n",
    "A. <font color=\"DarkBlue\">Quiz.</font> <br>\n",
    "B. <font color=\"DarkBlue\">FileAnswer.</font> <br>\n",
    "C. <font color=\"DarkBlue\">NBGrader.</font> <br>\n",
    "D. <font color=\"DarkBlue\">SolutionWriter.</font> <br>\n",
    "\n",
    "Escribe tu respuesta en: respuesta = ¿?\n",
    "</font>\n",
    "\n",
    "</div>"
   ]
  },
  {
   "cell_type": "code",
   "execution_count": 81,
   "id": "88073215-4f88-4d3a-a555-d0e77d15c767",
   "metadata": {
    "nbgrader": {
     "grade": false,
     "grade_id": "cell-f288f347b28396c8",
     "locked": false,
     "schema_version": 3,
     "solution": true,
     "task": false
    }
   },
   "outputs": [],
   "source": [
    "### BEGIN SOLUTION\n",
    "respuesta1 = 'b'\n",
    "\n",
    "file_answer.write('1', respuesta1 , 'FileAnswer almacena respuestas y feedback')\n",
    "\n",
    "# Se guardan las respuestas en un archivo, una sola vez\n",
    "\n",
    "### END SOLUTION\n",
    "# respuesta1 = ''\n"
   ]
  },
  {
   "cell_type": "code",
   "execution_count": 91,
   "id": "005a9880-d1a0-4be4-ab2e-99721c76c44f",
   "metadata": {
    "nbgrader": {
     "grade": true,
     "grade_id": "cell-e8cf052d95a3b2f8",
     "locked": true,
     "points": 1,
     "schema_version": 3,
     "solution": false,
     "task": false
    }
   },
   "outputs": [
    {
     "name": "stdout",
     "output_type": "stream",
     "text": [
      "\u001b[39m――――――――――――――――――――――――――――――――――――――――\n",
      "\u001b[32m1 | Tu respuesta: \u001b[39mb\u001b[32m, es correcta.\n",
      "\u001b[39m――――――――――――――――――――――――――――――――――――――――\n"
     ]
    }
   ],
   "source": [
    "quiz.eval_option('1', respuesta1)"
   ]
  },
  {
   "cell_type": "markdown",
   "id": "1e0b0cc4-8158-43ed-a947-af8bf2e66c58",
   "metadata": {},
   "source": [
    "<div class=\"alert alert-success\">\n",
    "\n",
    "Ejercicio 1.2\n",
    "<font color=\"Black\">Al llamar a FileAnswer().to_file('01'), ¿qué archivos se generan?\n",
    "\n",
    "A. <font color=\"DarkBlue\">Un .ipynb y un .py.</font> <br>\n",
    "B. <font color=\"DarkBlue\">Dos archivos parquet: uno con respuestas y otro con feedback.</font> <br>\n",
    "C. <font color=\"DarkBlue\">Un .csv con todas las respuestas.</font> <br>\n",
    "D. <font color=\"DarkBlue\">Ninguno.</font> <br>\n",
    "\n",
    "Escribe tu respuesta en: respuesta = ¿?\n",
    "</font>\n",
    "\n",
    "</div>\n"
   ]
  },
  {
   "cell_type": "code",
   "execution_count": 82,
   "id": "22f71bf2-f9cc-48b5-96f1-cb0811ba5912",
   "metadata": {
    "nbgrader": {
     "grade": false,
     "grade_id": "cell-ac2c9ce147d56475",
     "locked": false,
     "schema_version": 3,
     "solution": true,
     "task": false
    }
   },
   "outputs": [],
   "source": [
    "### BEGIN SOLUTION\n",
    "repuesta2 = 'b'\n",
    "file_answer.write('2', repuesta2, 'Se generan dos archivos parquet (respuestas y feedback)')\n",
    "### END SOLUTION\n",
    "\n",
    "# repuesta2 = ''\n"
   ]
  },
  {
   "cell_type": "code",
   "execution_count": 92,
   "id": "bac99e7b-cdd1-4f05-80b3-43a065f7e7a1",
   "metadata": {
    "editable": true,
    "nbgrader": {
     "grade": true,
     "grade_id": "cell-aaaa5f6e9af94e62",
     "locked": true,
     "points": 1,
     "schema_version": 3,
     "solution": false,
     "task": false
    },
    "slideshow": {
     "slide_type": ""
    },
    "tags": []
   },
   "outputs": [
    {
     "name": "stdout",
     "output_type": "stream",
     "text": [
      "\u001b[39m――――――――――――――――――――――――――――――――――――――――\n",
      "\u001b[32m2 | Tu respuesta: \u001b[39mb\u001b[32m, es correcta.\n",
      "\u001b[39m――――――――――――――――――――――――――――――――――――――――\n"
     ]
    }
   ],
   "source": [
    "quiz.eval_option('2', repuesta2)"
   ]
  },
  {
   "cell_type": "markdown",
   "id": "7005df9d-690b-4592-b130-c6aa811fc924",
   "metadata": {},
   "source": [
    "<div class=\"alert alert-success\">\n",
    "Ejercicio 1.3  \n",
    "<font color=\"Black\">¿Qué tipo de datos admite `FileAnswer.write`?  \n",
    "A. Números  <br>\n",
    "B. Cadenas de texto  <br>\n",
    "C. Listas y diccionarios  <br>\n",
    "D. Todos los anteriores  <br>\n",
    "Escribe tu respuesta en: respuesta = ¿? </font>\n",
    "</div>"
   ]
  },
  {
   "cell_type": "code",
   "execution_count": 83,
   "id": "9f1a89b0-2264-4ae1-9ecd-106691ec9913",
   "metadata": {
    "nbgrader": {
     "grade": false,
     "grade_id": "cell-6a2e7a5ab1a9912a",
     "locked": false,
     "schema_version": 3,
     "solution": true,
     "task": false
    }
   },
   "outputs": [],
   "source": [
    "### BEGIN SOLUTION\n",
    "respuesta3 = 'd'\n",
    "file_answer.write('3', respuesta3, 'FileAnswer.write admite todos esos tipos')\n",
    "### END SOLUTION\n",
    "\n",
    "#respuesta3 = ''"
   ]
  },
  {
   "cell_type": "code",
   "execution_count": 93,
   "id": "2e4cf94d-9a51-42f9-87ec-03eb7ac723b4",
   "metadata": {
    "nbgrader": {
     "grade": true,
     "grade_id": "cell-df32f5ca9cc59fad",
     "locked": true,
     "points": 1,
     "schema_version": 3,
     "solution": false,
     "task": false
    }
   },
   "outputs": [
    {
     "name": "stdout",
     "output_type": "stream",
     "text": [
      "\u001b[39m――――――――――――――――――――――――――――――――――――――――\n",
      "\u001b[32m3 | Tu respuesta: \u001b[39md\u001b[32m, es correcta.\n",
      "\u001b[39m――――――――――――――――――――――――――――――――――――――――\n"
     ]
    }
   ],
   "source": [
    "quiz.eval_option('3', respuesta3)"
   ]
  },
  {
   "cell_type": "markdown",
   "id": "749f644b-20c1-4770-aa80-d832becdb98f",
   "metadata": {},
   "source": [
    "<div class=\"alert alert-success\">\n",
    "Ejercicio 1.4  \n",
    "<font color=\"Black\">¿Cuántos métodos `eval_*` proporciona la clase `Quiz`?  \n",
    "Escribe tu respuesta en: respuesta_num = </font>\n",
    "</div>\n"
   ]
  },
  {
   "cell_type": "code",
   "execution_count": 84,
   "id": "9687b7ab-a702-4f22-a86e-cf6c359e13af",
   "metadata": {
    "nbgrader": {
     "grade": false,
     "grade_id": "cell-34c223cb094b949c",
     "locked": false,
     "schema_version": 3,
     "solution": true,
     "task": false
    }
   },
   "outputs": [],
   "source": [
    "### BEGIN SOLUTION\n",
    "respuesta_num = 5\n",
    "file_answer.write('4', respuesta_num, 'Quiz tiene cinco métodos eval_option, eval_expression, eval_numeric, eval_datastruct y eval_dict')\n",
    "### END SOLUTION\n",
    "# respuesta_num = "
   ]
  },
  {
   "cell_type": "code",
   "execution_count": 94,
   "id": "4f225eac-f7de-4a4d-88a0-f1eb6a0a2f0a",
   "metadata": {
    "editable": true,
    "nbgrader": {
     "grade": true,
     "grade_id": "cell-9f72ea6424abc8d3",
     "locked": true,
     "points": 1,
     "schema_version": 3,
     "solution": false,
     "task": false
    },
    "slideshow": {
     "slide_type": ""
    },
    "tags": []
   },
   "outputs": [
    {
     "name": "stdout",
     "output_type": "stream",
     "text": [
      "\u001b[39m――――――――――――――――――――――――――――――――――――――――\n",
      "\u001b[32m4 | Tu resultado es correcto.\n",
      "\u001b[39m――――――――――――――――――――――――――――――――――――――――\n"
     ]
    }
   ],
   "source": [
    "quiz.eval_numeric('4', respuesta_num)"
   ]
  },
  {
   "cell_type": "markdown",
   "id": "6bd39c54-48f1-46e3-b99f-b26a4d2eed87",
   "metadata": {},
   "source": [
    "<div class=\"alert alert-success\">\n",
    "Ejercicio 1.5 \n",
    "<font color=\"Black\">Enumera los nombres de los métodos de evaluación de `Quiz`.</font>\n",
    "    \n",
    "    metodos = []\n",
    "</div>"
   ]
  },
  {
   "cell_type": "code",
   "execution_count": 85,
   "id": "45bb2345-4b7f-4ad1-948e-7e2c9fb468ec",
   "metadata": {
    "nbgrader": {
     "grade": false,
     "grade_id": "cell-284731f91e347559",
     "locked": false,
     "schema_version": 3,
     "solution": true,
     "task": false
    }
   },
   "outputs": [],
   "source": [
    "### BEGIN SOLUTION\n",
    "metodos = ['eval_option','eval_expression','eval_numeric','eval_datastruct','eval_dict']\n",
    "file_answer.write('5', metodos, 'Debes incluir los cinco métodos principales')\n",
    "### END SOLUTION\n",
    "\n",
    "# medodos = []"
   ]
  },
  {
   "cell_type": "code",
   "execution_count": 95,
   "id": "e1a69938-8a08-460f-8206-a96ac7e79612",
   "metadata": {
    "editable": true,
    "nbgrader": {
     "grade": true,
     "grade_id": "cell-178659e525f3b252",
     "locked": true,
     "points": 1,
     "schema_version": 3,
     "solution": false,
     "task": false
    },
    "slideshow": {
     "slide_type": ""
    },
    "tags": []
   },
   "outputs": [
    {
     "name": "stdout",
     "output_type": "stream",
     "text": [
      "\u001b[39m――――――――――――――――――――――――――――――――――――――――\n",
      "\u001b[32m5 | Tu resultado es correcto.\n",
      "\u001b[39m――――――――――――――――――――――――――――――――――――――――\n"
     ]
    }
   ],
   "source": [
    "quiz.eval_datastruct('5', metodos)"
   ]
  },
  {
   "cell_type": "markdown",
   "id": "c929a7cc-d191-4787-9729-f217b7d340f3",
   "metadata": {},
   "source": [
    "<div class=\"alert alert-success\">\n",
    "\n",
    "### Ejercicio 1.6\n",
    "\n",
    "<font color=\"black\">\n",
    "Asocia cada método `eval_*` con el tipo de dato que evalúa, utilizando un diccionario de Python.\n",
    "</font>\n",
    "\n",
    "| Funciones            | Tipos de evaluación        |\n",
    "|----------------------|----------------------------|\n",
    "| `eval_expression`    | 1. opción múltiple         |\n",
    "| `eval_dict`          | 2. expresión simbólica      |\n",
    "| `eval_datastruct`    | 3. numérico                |\n",
    "| `eval_option`        | 4. estructura de datos      |\n",
    "| `eval_numeric`       | 5. diccionario             |\n",
    "\n",
    "<font color=\"black\">\n",
    "Por ejemplo:\n",
    "\n",
    "```python\n",
    "[\n",
    "    ('eval_option', 'opción múltiple'),\n",
    "    # completa el resto ...\n",
    "]\n"
   ]
  },
  {
   "cell_type": "code",
   "execution_count": 86,
   "id": "9a03e57a-cf85-4077-ad2b-dc89cb8b9140",
   "metadata": {
    "nbgrader": {
     "grade": false,
     "grade_id": "cell-9a86f97a28ee9d24",
     "locked": false,
     "schema_version": 3,
     "solution": true,
     "task": false
    }
   },
   "outputs": [],
   "source": [
    "### BEGIN SOLUTION\n",
    "tipo_map = {\n",
    "    'eval_option': 'opción múltiple',\n",
    "    'eval_expression': 'expresión simbólica',\n",
    "    'eval_numeric': 'numérico',\n",
    "    'eval_datastruct': 'estructura de datos',\n",
    "    'eval_dict': 'diccionario'\n",
    "}\n",
    "\n",
    "\n",
    "file_answer.write('6', tipo_map, 'Mapea cada método con su tipo de dato')\n",
    "### END SOLUTION"
   ]
  },
  {
   "cell_type": "code",
   "execution_count": 96,
   "id": "f5df8246-8291-46ad-999a-6aa125989e7a",
   "metadata": {
    "editable": true,
    "nbgrader": {
     "grade": true,
     "grade_id": "cell-90cce500793a0a0e",
     "locked": true,
     "points": 1,
     "schema_version": 3,
     "solution": false,
     "task": false
    },
    "slideshow": {
     "slide_type": ""
    },
    "tags": []
   },
   "outputs": [
    {
     "name": "stdout",
     "output_type": "stream",
     "text": [
      "\u001b[39m――――――――――――――――――――――――――――――――――――――――\n",
      "\u001b[32m6_val_4 | Tu resultado es correcto.\n",
      "\u001b[39m――――――――――――――――――――――――――――――――――――――――\n"
     ]
    }
   ],
   "source": [
    "quiz.eval_dict('6', tipo_map, numeric=False)"
   ]
  },
  {
   "cell_type": "markdown",
   "id": "9e2563e3-9f59-4cf4-8dc5-5e7f81e66ad7",
   "metadata": {},
   "source": [
    "<div class=\"alert alert-success\">\n",
    "Ejercicio 1.7 \n",
    "<font color=\"Black\">¿Cuál es una ventaja de usar NBGrader con MactiLib?  \n",
    "A. Generación manual de feedback  <br>\n",
    "B. Calificación automática  <br>\n",
    "C. No requiere Python  <br>\n",
    "D. Soporta solo opción múltiple  <br>\n",
    "Escribe tu respuesta en: respuesta = </font>\n",
    "</div>"
   ]
  },
  {
   "cell_type": "code",
   "execution_count": 87,
   "id": "b24f0481-dd07-4027-a379-2c2a6e89255a",
   "metadata": {
    "nbgrader": {
     "grade": false,
     "grade_id": "cell-8d689920ace39a9f",
     "locked": false,
     "schema_version": 3,
     "solution": true,
     "task": false
    }
   },
   "outputs": [],
   "source": [
    "## BEGIN SOLUTION\n",
    "respuesta7 = 'b'\n",
    "file_answer.write('7', respuesta7, 'La calificación automática es la principal ventaja')\n",
    "### END SOLUTION\n",
    "# respuesta7 = ''"
   ]
  },
  {
   "cell_type": "code",
   "execution_count": 97,
   "id": "ec9276ba-e387-49ad-986d-fb175316d6d1",
   "metadata": {
    "nbgrader": {
     "grade": true,
     "grade_id": "cell-8d80f3f3f8487c76",
     "locked": true,
     "points": 1,
     "schema_version": 3,
     "solution": false,
     "task": false
    }
   },
   "outputs": [
    {
     "name": "stdout",
     "output_type": "stream",
     "text": [
      "\u001b[39m――――――――――――――――――――――――――――――――――――――――\n",
      "\u001b[32m7 | Tu respuesta: \u001b[39mb\u001b[32m, es correcta.\n",
      "\u001b[39m――――――――――――――――――――――――――――――――――――――――\n"
     ]
    }
   ],
   "source": [
    "quiz.eval_option('7', respuesta7)"
   ]
  },
  {
   "cell_type": "markdown",
   "id": "946e1242-6bc2-420f-8acf-66570a5722b1",
   "metadata": {
    "nbgrader": {
     "grade": false,
     "grade_id": "cell-897f0754e72da593",
     "locked": true,
     "schema_version": 3,
     "solution": false,
     "task": false
    }
   },
   "source": [
    "<div class=\"alert alert-success\">\n",
    "\n",
    "Ejercicio 8\n",
    "<font color=\"Black\">En Quiz.eval_numeric(), ¿qué ocurre si la respuesta no coincide?\n",
    "\n",
    "A. <font color=\"DarkBlue\">Imprime 'correcto'.</font> <br>\n",
    "B. <font color=\"DarkBlue\">Lanza AssertionError.</font> <br>\n",
    "C. <font color=\"DarkBlue\">Cierra el programa.</font> <br>\n",
    "D. <font color=\"DarkBlue\">Silenciosamente marca error.</font> <br>\n",
    "\n",
    "Escribe tu respuesta en: respuesta = ¿?\n",
    "</font>\n",
    "\n",
    "</div>\n"
   ]
  },
  {
   "cell_type": "code",
   "execution_count": 88,
   "id": "a926e213-1dd3-4975-bbc2-5bcfc986369c",
   "metadata": {
    "editable": true,
    "nbgrader": {
     "grade": false,
     "grade_id": "cell-6a6107b082efe7fa",
     "locked": false,
     "schema_version": 3,
     "solution": true,
     "task": false
    },
    "slideshow": {
     "slide_type": ""
    },
    "tags": []
   },
   "outputs": [],
   "source": [
    "### BEGIN SOLUTION\n",
    "repuesta8 = 'b'\n",
    "file_answer.write('8', repuesta8, 'AssertionError se lanza si no coincide')\n",
    "### END SOLUTION\n",
    "\n",
    "# repuesta8 = ''"
   ]
  },
  {
   "cell_type": "code",
   "execution_count": 98,
   "id": "aa330b8f-dedc-43b7-8d3f-1e383cbe0bc8",
   "metadata": {
    "editable": true,
    "nbgrader": {
     "grade": true,
     "grade_id": "cell-16bfea838de42cb5",
     "locked": true,
     "points": 1,
     "schema_version": 3,
     "solution": false,
     "task": false
    },
    "slideshow": {
     "slide_type": ""
    },
    "tags": []
   },
   "outputs": [
    {
     "name": "stdout",
     "output_type": "stream",
     "text": [
      "\u001b[39m――――――――――――――――――――――――――――――――――――――――\n",
      "\u001b[32m8 | Tu respuesta: \u001b[39mb\u001b[32m, es correcta.\n",
      "\u001b[39m――――――――――――――――――――――――――――――――――――――――\n"
     ]
    }
   ],
   "source": [
    "quiz.eval_option('8', repuesta8)"
   ]
  },
  {
   "cell_type": "code",
   "execution_count": 89,
   "id": "3f724550-6d4f-4c46-82bd-1fb9fe0a9e66",
   "metadata": {
    "nbgrader": {
     "grade": false,
     "grade_id": "cell-e3bc2249537b0d25",
     "locked": true,
     "schema_version": 3,
     "solution": false,
     "task": false
    }
   },
   "outputs": [
    {
     "name": "stdout",
     "output_type": "stream",
     "text": [
      "El directorio :/home/jovyan/MACTI_LIB/.ans/Eval/ ya existe\n",
      "Respuestas y retroalimentación almacenadas.\n"
     ]
    }
   ],
   "source": [
    "# Se guardan las respuestas en un archivo, una sola vez\n",
    "file_answer.to_file('1') "
   ]
  }
 ],
 "metadata": {
  "kernelspec": {
   "display_name": "Python 3 (ipykernel)",
   "language": "python",
   "name": "python3"
  },
  "language_info": {
   "codemirror_mode": {
    "name": "ipython",
    "version": 3
   },
   "file_extension": ".py",
   "mimetype": "text/x-python",
   "name": "python",
   "nbconvert_exporter": "python",
   "pygments_lexer": "ipython3",
   "version": "3.11.6"
  }
 },
 "nbformat": 4,
 "nbformat_minor": 5
}
