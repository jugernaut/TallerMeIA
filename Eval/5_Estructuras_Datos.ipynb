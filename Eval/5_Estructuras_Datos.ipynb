{
 "cells": [
  {
   "cell_type": "markdown",
   "id": "57aef148-ea75-41ef-b65c-250257730aa4",
   "metadata": {},
   "source": [
    "<h1 style=\"text-align: center; font-size: 3em; margin-bottom: 0.5em;\">\n",
    "  Evaluación de estructuras de datos\n",
    "</h1> \n",
    "\n",
    "La evaluación de **estructuras de datos** se utiliza para evaluar respuestas con el contenido de:\n",
    "\n",
    "- Listas (`list`)  \n",
    "- Tuplas (`tuple`)  \n",
    "- Conjuntos (`set`)  \n",
    "\n",
    "**¿Cómo funciona?**  \n",
    "- Realiza comparaciones directas de los elementos.  \n",
    "- Permite especificar si el orden importa (`inorder=True/False`).  \n",
    "\n",
    "**¿Qué podemos cambiar?**  \n",
    "\n",
    "- Si se debe respetar el orden de los elementos.  \n",
    "\n",
    "--- "
   ]
  },
  {
   "cell_type": "markdown",
   "id": "76a1e5e6-4368-4d31-94cc-5c966220e9b1",
   "metadata": {},
   "source": [
    "## ¿Cómo se utiliza la evaluación de estructuras de datos (lista ordenada)?\n",
    "\n",
    "Para validar que la respuesta que se entregue sea exactamente la misma lista (en el mismo orden), se debe de ajusta dos pasos en el  flujo de trabajo:\n",
    "\n",
    "1. **Registrar la lista de referencia**  \n",
    "   Después de crear `FileAnswer()` y antes de llamar a `.to_file()`, define la lista correcta:\n",
    "\n",
    "   ```python\n",
    "   # 1) Definir la lista de referencia para el ejercicio '4'\n",
    "   file_answer.write(\n",
    "       '4',                              # → ID del ejercicio\n",
    "       ['a', 'b', 'c'],                  # → lista de referencia (p. ej. ['a','b','c'])\n",
    "       'Aquí va tu feedback personalizado'  # → mensaje si el alumno falla\n",
    "   )\n",
    "\n",
    "   ```\n",
    "\n",
    "\n",
    "\n",
    "\n",
    "2. **Evaluar la lista enviada por el usuario**\n",
    "\n",
    "\n",
    "   ```python\n",
    "   quiz.eval_datastruct(\n",
    "    '4',                              # → mismo ID de ejercicio que usaste arriba\n",
    "    respuesta_alumno,                 # → lista que envió el estudiante\n",
    "    inorder=True                      # → exige que el orden coincida\n",
    "    )\n",
    "```\n"
   ]
  },
  {
   "cell_type": "markdown",
   "id": "5f88a974-4caa-49f3-aca6-9017321cfcf6",
   "metadata": {},
   "source": [
    "---"
   ]
  },
  {
   "cell_type": "markdown",
   "id": "d95075fb-9a3e-45ca-abe7-549f9794937e",
   "metadata": {},
   "source": [
    "## Ejemplos: evaluación de Estructuras de datos\n",
    "\n",
    "A continuación se presentan ejemplos para el tipo de Estructuras de datos\n",
    "\n"
   ]
  },
  {
   "cell_type": "code",
   "execution_count": 4,
   "id": "48f85c7c-c0cb-442b-a161-068729df6c00",
   "metadata": {},
   "outputs": [],
   "source": [
    "# Importamos los módulos necesarios para poder hacer uso de la biblioteca de MACTI\n",
    "from macti.eval import FileAnswer, Quiz \n",
    "import sympy as sy\n",
    "import numpy as np\n",
    "import pandas as pd"
   ]
  },
  {
   "cell_type": "code",
   "execution_count": 19,
   "id": "5dca4ccd-21fe-4bb5-b0d9-3ced52d2d937",
   "metadata": {},
   "outputs": [
    {
     "name": "stdout",
     "output_type": "stream",
     "text": [
      "El directorio :/home/jovyan/MACTI_LIB/.ans/Eval/ ya existe\n",
      "Respuestas y retroalimentación almacenadas.\n"
     ]
    }
   ],
   "source": [
    "# --- 1) Registrar estructuras de datos de referencia ---\n",
    "file_answer = FileAnswer()\n",
    "\n",
    "# Ejercicio '9': lista ordenada de nombres\n",
    "lista = ['luis', 'miguel', 'delacruz']\n",
    "file_answer.write(\n",
    "    '9', \n",
    "    lista, \n",
    "    'Checa la estructura de tipo lista.'\n",
    ")\n",
    "\n",
    "# Ejercicio '11': tupla ordenada de letras\n",
    "tupla = ('a', 'b', 'c')\n",
    "file_answer.write(\n",
    "    '11', \n",
    "    tupla, \n",
    "    'Checa la estructura de tipo tupla.'\n",
    ")\n",
    "\n",
    "# Ejercicio '13': conjunto (el orden no importa)\n",
    "conjunto = {'a', 'b', 'c'}\n",
    "file_answer.write(\n",
    "    '13', \n",
    "    conjunto, \n",
    "    'Checa la estructura de tipo conjunto.'\n",
    ")\n",
    "\n",
    "# Ejercicio '20': lista desordenada\n",
    "lista_no = ['a', 'b', 'x', '4', 'c']\n",
    "file_answer.write(\n",
    "    '20', \n",
    "    lista_no, \n",
    "    'Checa la lista desordenada.'\n",
    ")\n",
    "\n",
    "# Ejercicio '21': tupla desordenada\n",
    "tupla_no = ('a', 'b', 'x', '4', 'c')\n",
    "file_answer.write(\n",
    "    '21', \n",
    "    tupla_no, \n",
    "    'Checa la tupla desordenada.'\n",
    ")\n",
    "\n",
    "# Exportar a Parquet para que Quiz pueda leerlo\n",
    "file_answer.to_file('demo_structures')\n"
   ]
  },
  {
   "cell_type": "code",
   "execution_count": 30,
   "id": "6054e403-beef-4949-b969-b4838d24b899",
   "metadata": {},
   "outputs": [
    {
     "name": "stdout",
     "output_type": "stream",
     "text": [
      "\u001b[39m――――――――――――――――――――――――――――――――――――――――\n",
      "\u001b[32m9 | Tu resultado es correcto.\n",
      "\u001b[39m――――――――――――――――――――――――――――――――――――――――\n",
      "\u001b[39m――――――――――――――――――――――――――――――――――――――――\n",
      "\u001b[32m11 | Tu resultado es correcto.\n",
      "\u001b[39m――――――――――――――――――――――――――――――――――――――――\n",
      "\u001b[39m――――――――――――――――――――――――――――――――――――――――\n",
      "\u001b[32m13 | Tu resultado es correcto.\n",
      "\u001b[39m――――――――――――――――――――――――――――――――――――――――\n",
      "\u001b[39m――――――――――――――――――――――――――――――――――――――――\n",
      "\u001b[32m20 | Tu resultado es correcto.\n",
      "\u001b[39m――――――――――――――――――――――――――――――――――――――――\n",
      "\u001b[39m――――――――――――――――――――――――――――――――――――――――\n",
      "\u001b[32m21 | Tu resultado es correcto.\n",
      "\u001b[39m――――――――――――――――――――――――――――――――――――――――\n"
     ]
    }
   ],
   "source": [
    "# --- 2) Evaluar estructuras de datos con Quiz ---\n",
    "\n",
    "quiz = Quiz(qnum='demo_structures', server='local')\n",
    "\n",
    "# Lista ordenada (ejercicio '9')\n",
    "quiz.eval_datastruct('9', ['luis', 'miguel', 'delacruz'])\n",
    "\n",
    "# Tupla ordenada (ejercicio '11')\n",
    "quiz.eval_datastruct('11', ('a', 'b', 'c'))\n",
    "\n",
    "# Conjunto (ejercicio '13', orden no importa)\n",
    "quiz.eval_datastruct('13', {'c', 'b', 'a'}, in_order= False )\n",
    "\n",
    "# Lista desordenada (ejercicio '20', permite cualquier orden)\n",
    "quiz.eval_datastruct('20', ['b', 'a', 'x', 'c', '4'], in_order= False )\n",
    "\n",
    "# Tupla desordenada (ejercicio '21', permite cualquier orden)\n",
    "quiz.eval_datastruct('21', ('x', '4', 'a', 'c', 'b'), in_order= False )\n"
   ]
  },
  {
   "cell_type": "markdown",
   "id": "ee89a517-46a5-465a-aedc-5b43aa405e6e",
   "metadata": {},
   "source": [
    "---\n",
    "## Conclusión: Evaluación de estructuras de datos\n",
    "\n",
    "Con la biblioteca **macti_lib** la evaluación de estructuras de datos te permite:\n",
    "\n",
    "- **Definir fácilmente** la colección de referencia (lista, tupla o conjunto).  \n",
    "- **Elegir si importa el orden** (`in_order=True`) o no (`in_order=False`) según el tipo de ejercicio.  \n",
    "- **Comparar automáticamente** los elementos entregados por el alumno con los de referencia.  \n",
    "- **Mostrar feedback inmediato**, pintando en verde cuando coincide y en rojo con sugerencias cuando falla.  \n",
    "\n"
   ]
  }
 ],
 "metadata": {
  "kernelspec": {
   "display_name": "Python 3 (ipykernel)",
   "language": "python",
   "name": "python3"
  },
  "language_info": {
   "codemirror_mode": {
    "name": "ipython",
    "version": 3
   },
   "file_extension": ".py",
   "mimetype": "text/x-python",
   "name": "python",
   "nbconvert_exporter": "python",
   "pygments_lexer": "ipython3",
   "version": "3.11.6"
  }
 },
 "nbformat": 4,
 "nbformat_minor": 5
}
