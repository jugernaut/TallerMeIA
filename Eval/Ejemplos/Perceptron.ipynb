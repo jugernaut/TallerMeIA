{
  "cells": [
    {
      "cell_type": "markdown",
      "metadata": {
        "id": "view-in-github",
        "colab_type": "text"
      },
      "source": [
        "<a href=\"https://colab.research.google.com/github/jugernaut/TallerMeIA/blob/main/Eval/Ejemplos/Perceptron.ipynb\" target=\"_parent\"><img src=\"https://colab.research.google.com/assets/colab-badge.svg\" alt=\"Open In Colab\"/></a>"
      ]
    },
    {
      "cell_type": "markdown",
      "metadata": {
        "id": "PJkb2AKbDWq7"
      },
      "source": [
        "<font color=\"Teal\" face=\"Comic Sans MS,arial\">\n",
        "  <h1 align=\"center\"><i>Perceptrón</i></h1>\n",
        "  </font>\n",
        "  <font color=\"Black\" face=\"Comic Sans MS,arial\">\n",
        "  <h5 align=\"center\"><i>Profesor: M. en C. Miguel Angel Pérez León</i></h5>\n",
        "</font>"
      ]
    },
    {
      "cell_type": "code",
      "execution_count": null,
      "metadata": {
        "nbgrader": {
          "grade": true,
          "grade_id": "cell-51e0133df82c9254",
          "locked": true,
          "points": 0,
          "schema_version": 3,
          "solution": false,
          "task": false
        },
        "tags": [],
        "id": "sA4pEr5vDWrA"
      },
      "outputs": [],
      "source": [
        "# bibliotecas que se van a usar\n",
        "import numpy as np\n",
        "import matplotlib.pyplot as plt\n",
        "from macti.evaluation import *\n",
        "#file_answer = FileAnswer()"
      ]
    },
    {
      "cell_type": "code",
      "execution_count": null,
      "metadata": {
        "nbgrader": {
          "grade": true,
          "grade_id": "cell-eedb39b21ab1e329",
          "locked": true,
          "points": 0,
          "schema_version": 3,
          "solution": false,
          "task": false
        },
        "id": "fo-TSjOzDWrB"
      },
      "outputs": [],
      "source": [
        "# EJECUTAR ESTA CELDA SOLO SI EL NOTEBOOK ESTA EN MACTI\n",
        "#from macti.evaluation import Quizz\n",
        "#quizz = Quizz('1', 'AnalisisNumerico', 'local')"
      ]
    },
    {
      "cell_type": "markdown",
      "metadata": {
        "id": "FdOfFXdrDWrC"
      },
      "source": [
        "<div class=\"alert alert-success\">\n",
        "\n",
        "# Objetivos\n",
        "\n",
        "Construir un perceptrón que sea capas de aprender el comportamiento del operador lógico XOR."
      ]
    },
    {
      "cell_type": "markdown",
      "metadata": {
        "id": "tThan_E8DWrD"
      },
      "source": [
        "<div class=\"alert alert-success\">\n",
        "    \n",
        "## (10 Puntos) Perceptrón XOR\n",
        "\n",
        "Dado que ya conoces como funcionan los perceptrones vistos en clase, esta tarea consiste es encontrar la forma de aprender el comportamiento del operador lógico XOR mediante el uso de la clase `Perceptron`.\n",
        "\n",
        "A continuación se muestra la tabla de verdad del operador lógico XOR, así como el código de la clase antes mencionada.\n",
        "\n",
        "| $x_1$ | $x_2$ | $and$ |\n",
        "| :-:   |    :-:|  :-:  |\n",
        "| 0     | 0     | 0     |\n",
        "| 0     | 1     | 1     |\n",
        "| 1     | 0     | 1     |\n",
        "| 1     | 1     | 0     |"
      ]
    },
    {
      "cell_type": "code",
      "execution_count": null,
      "metadata": {
        "nbgrader": {
          "grade": true,
          "grade_id": "cell-bcdc4313a3efcd10",
          "locked": false,
          "points": 0,
          "schema_version": 3,
          "solution": true,
          "task": false
        },
        "tags": [],
        "id": "khFPQeANDWrE"
      },
      "outputs": [],
      "source": [
        "'''\n",
        "MIT License\n",
        "Copyright (c) 2018 Thomas Countz\n",
        "Codigo tomado del sitio\n",
        "https://medium.com/@thomascountz/19-line-line-by-line-python-perceptron-b6f113b161f3\n",
        "'''\n",
        "import numpy as np\n",
        "\n",
        "# Definicion de la clase que hereda de la clase object\n",
        "class Perceptron(object):\n",
        "  '''\n",
        "  Constructor que recibe los siguientes parametros\n",
        "  num_entradas:     numero de entradas del vector de entradas\n",
        "  limite:           es el limite de iteraciones mientras entrenamos\n",
        "  tasa_aprendizaje: magnitud en la que se incrementan los pesos\n",
        "  '''\n",
        "  def __init__(self, num_entradas, limite=15, tasa_aprendizaje=0.01):\n",
        "    self.limite = limite\n",
        "    self.tasa_aprendizaje = tasa_aprendizaje\n",
        "    self.pesos = np.zeros(num_entradas + 1) #se suma uno por el bias\n",
        "\n",
        "  '''\n",
        "  Metodo que nos devuelve la prediccion del perceptron\n",
        "  entradas: vector de entradas para realizar la prediccion\n",
        "  '''\n",
        "  def prediccion(self, entradas):\n",
        "    # suma ponderada x*w, pesos[0] = bias\n",
        "    suma = np.dot(entradas, self.pesos[1:]) + self.pesos[0]\n",
        "    # funcion de activacion equivalente a np.heaviside\n",
        "    if suma > 0:\n",
        "      activacion = 1\n",
        "    else:\n",
        "      activacion = 0\n",
        "    return activacion\n",
        "\n",
        "  '''\n",
        "  Metodo que entrena al percetron\n",
        "  entradas_ent: vector de vectores de entradas para entrenar\n",
        "  etiquetas:    valores esperados por cada entrada del vector de entradas\n",
        "  '''\n",
        "  def entrenamiento(self, entradas_ent, etiquetas, debbug=False):\n",
        "    # por cada epoca en el limite de entrenamientos\n",
        "    for _ in range(self.limite):\n",
        "      # tomamos una entrada y su respectiva etiqueta\n",
        "      for entrada, etiqueta in zip(entradas_ent, etiquetas):\n",
        "        prediccion = self.prediccion(entrada)\n",
        "        # ajuste de pesos w <- w + (y-f(x)) * x\n",
        "        self.pesos[1:] += self.tasa_aprendizaje * (etiqueta - prediccion) * entrada\n",
        "        # ajuste del bias\n",
        "        self.pesos[0] += self.tasa_aprendizaje * (etiqueta - prediccion) # *1\n",
        "        # (SECCION DE DEBUGEO)\n",
        "        if debbug:\n",
        "          if prediccion != etiqueta:\n",
        "            print(\"chanclazo por no aprender\")\n",
        "            input(\"Continuar?\")\n",
        "          else:\n",
        "            print(\"bien hecho muchacho\")\n",
        "            input(\"Continuar?\")\n",
        "          #self.grafica()\n",
        "\n",
        "  def grafica(self):\n",
        "     print(self.pesos)\n",
        "     # dominio de la grafica\n",
        "     dominio = np.linspace(-0.25, 1.25, 10)\n",
        "     # funcion a graficar\n",
        "     graf = lambda x: (-self.pesos[0]-self.pesos[1]*x)/self.pesos[2]\n",
        "\n",
        "     # definimos algunos parámetros para la gráfica\n",
        "     fig, ax = plt.subplots()\n",
        "     # recta generada por el perceptron\n",
        "     ax.plot(dominio, graf(dominio))\n",
        "     # valores de entrada para el perceptron\n",
        "     xs = [0,1,0,1]\n",
        "     ys = [0,0,1,1]\n",
        "     # etiquetas\n",
        "     ax.scatter(xs, ys)\n",
        "     ax.annotate('(0,0)', (xs[0],ys[0]), xytext=(0.125, 0.125), arrowprops = dict(  arrowstyle=\"->\",\n",
        "                            connectionstyle=\"angle3,angleA=0,angleB=-90\"))\n",
        "     ax.annotate('(1,0)', (xs[1],ys[1]), xytext=(1, 0.125), arrowprops = dict(  arrowstyle=\"->\",\n",
        "                            connectionstyle=\"angle3,angleA=0,angleB=-90\"))\n",
        "     ax.annotate('(0,1)', (xs[2],ys[2]), xytext=(0.125, 0.75), arrowprops = dict(  arrowstyle=\"->\",\n",
        "                            connectionstyle=\"angle3,angleA=0,angleB=-90\"))\n",
        "     ax.annotate('(1,1)', (xs[3],ys[3]), xytext=(1, 0.75), arrowprops = dict(  arrowstyle=\"->\",\n",
        "                            connectionstyle=\"angle3,angleA=0,angleB=-90\"))\n",
        "     # ejes coordenados\n",
        "     ax.axhline(y=0, color='k')\n",
        "     ax.axvline(x=0, color='k')\n",
        "     plt.title(\"Perceptrón\")\n",
        "\n",
        "     plt.grid()\n",
        "     plt.show()"
      ]
    },
    {
      "cell_type": "markdown",
      "metadata": {
        "id": "3Fh74LlEDWrF"
      },
      "source": [
        "<div class=\"alert alert-success\">\n",
        "    \n",
        "## Solución al problema\n",
        "\n",
        "En el siguiente [enlace](https://towardsdatascience.com/how-neural-networks-solve-the-xor-problem-59763136bdd7) puedes encontrar una descripción más detallada del problema y de una posible solución. No es necesario redefinir la clase `Percetron`, solo hace falta usar la clase `Perceptron` que ya fue definida."
      ]
    },
    {
      "cell_type": "code",
      "execution_count": null,
      "metadata": {
        "id": "6t9RpZXGDWrF",
        "outputId": "8d742bc0-b7b0-4d22-baab-425102e24c0a"
      },
      "outputs": [
        {
          "name": "stdout",
          "output_type": "stream",
          "text": [
            "0\n",
            "1\n",
            "1\n",
            "0\n",
            "[-0.02  0.01  0.02]\n",
            "[0.   0.01 0.01]\n",
            "[ 0.03 -0.01 -0.02]\n"
          ]
        }
      ],
      "source": [
        "# entrenamiento OR\n",
        "entradas_ent0 = []\n",
        "entradas_ent0.append(np.array([1, 1]))\n",
        "entradas_ent0.append(np.array([1, 0]))\n",
        "entradas_ent0.append(np.array([0, 1]))\n",
        "entradas_ent0.append(np.array([0, 0]))\n",
        "\n",
        "etiquetas0 = np.array([1, 1, 1, 0])\n",
        "# entrenamiento NAND\n",
        "entradas_ent1 = []\n",
        "entradas_ent1.append(np.array([1, 1]))\n",
        "entradas_ent1.append(np.array([1, 0]))\n",
        "entradas_ent1.append(np.array([0, 1]))\n",
        "entradas_ent1.append(np.array([0, 0]))\n",
        "\n",
        "etiquetas1 = np.array([0, 1, 1, 1])\n",
        "\n",
        "# entrenamiento AND\n",
        "entradas_ent2 = []\n",
        "entradas_ent2.append(np.array([1, 1]))\n",
        "entradas_ent2.append(np.array([1, 0]))\n",
        "entradas_ent2.append(np.array([0, 1]))\n",
        "entradas_ent2.append(np.array([0, 0]))\n",
        "\n",
        "etiquetas2 = np.array([1, 0, 0, 0])\n",
        "\n",
        "perceptron_or = Perceptron(2)\n",
        "perceptron_or.entrenamiento(entradas_ent0, etiquetas0)\n",
        "\n",
        "\n",
        "perceptron_nand = Perceptron(2)\n",
        "perceptron_nand.entrenamiento(entradas_ent1, etiquetas1)\n",
        "\n",
        "perceptron_and = Perceptron(2)\n",
        "perceptron_and.entrenamiento(entradas_ent2, etiquetas2)\n",
        "\n",
        "entradas = np.array([0, 0])\n",
        "print(perceptron_and.prediccion(np.array([perceptron_nand.prediccion(entradas), perceptron_or.prediccion(entradas)])))\n",
        "\n",
        "entradas = np.array([1, 0])\n",
        "print(perceptron_and.prediccion(np.array([perceptron_nand.prediccion(entradas), perceptron_or.prediccion(entradas)])))\n",
        "\n",
        "entradas = np.array([0, 1])\n",
        "print(perceptron_and.prediccion(np.array([perceptron_nand.prediccion(entradas), perceptron_or.prediccion(entradas)])))\n",
        "\n",
        "entradas = np.array([1, 1])\n",
        "print(perceptron_and.prediccion(np.array([perceptron_nand.prediccion(entradas), perceptron_or.prediccion(entradas)])))\n",
        "\n",
        "# vector que contiene el sesgo y pesos\n",
        "print(perceptron_and.pesos)\n",
        "print(perceptron_or.pesos)\n",
        "print(perceptron_nand.pesos)"
      ]
    },
    {
      "cell_type": "code",
      "execution_count": null,
      "metadata": {
        "nbgrader": {
          "grade": true,
          "grade_id": "cell-0b41c598f6dbf864",
          "locked": true,
          "points": 3,
          "schema_version": 3,
          "solution": false,
          "task": false
        },
        "id": "Eeao8vtgDWrH"
      },
      "outputs": [],
      "source": [
        "# EJECUTAR ESTA CELDA SOLO SI EL NOTEBOOK ESTA EN MACTI\n",
        "#quizz.eval_numeric('1', documento.vector_caracteristico)\n",
        "entradas = np.array([0, 0])\n",
        "print(perceptron_and.prediccion(np.array([perceptron_nand.prediccion(entradas), perceptron_or.prediccion(entradas)])))\n",
        "\n",
        "file_answer.write('1', documento.vector_caracteristico, 'Revisa la solución del problema')"
      ]
    },
    {
      "cell_type": "code",
      "execution_count": null,
      "metadata": {
        "id": "yUQJrnqXDWrH"
      },
      "outputs": [],
      "source": [
        "entradas = np.array([1, 0])\n",
        "print(perceptron_and.prediccion(np.array([perceptron_nand.prediccion(entradas), perceptron_or.prediccion(entradas)])))\n",
        "\n",
        "file_answer.write('2', documento.vector_caracteristico, 'Revisa la solución del problema')"
      ]
    },
    {
      "cell_type": "code",
      "execution_count": null,
      "metadata": {
        "id": "0N-9jOHiDWrI"
      },
      "outputs": [],
      "source": [
        "entradas = np.array([0, 1])\n",
        "print(perceptron_and.prediccion(np.array([perceptron_nand.prediccion(entradas), perceptron_or.prediccion(entradas)])))\n",
        "\n",
        "file_answer.write('3', documento.vector_caracteristico, 'Revisa la solución del problema')"
      ]
    },
    {
      "cell_type": "code",
      "execution_count": null,
      "metadata": {
        "id": "gvzuerMDDWrI"
      },
      "outputs": [],
      "source": [
        "entradas = np.array([1, 1])\n",
        "print(perceptron_and.prediccion(np.array([perceptron_nand.prediccion(entradas), perceptron_or.prediccion(entradas)])))\n",
        "\n",
        "file_answer.write('4', documento.vector_caracteristico, 'Revisa la solución del problema')"
      ]
    }
  ],
  "metadata": {
    "kernelspec": {
      "display_name": "Python 3 (ipykernel)",
      "language": "python",
      "name": "python3"
    },
    "language_info": {
      "codemirror_mode": {
        "name": "ipython",
        "version": 3
      },
      "file_extension": ".py",
      "mimetype": "text/x-python",
      "name": "python",
      "nbconvert_exporter": "python",
      "pygments_lexer": "ipython3",
      "version": "3.11.6"
    },
    "colab": {
      "provenance": [],
      "include_colab_link": true
    }
  },
  "nbformat": 4,
  "nbformat_minor": 0
}