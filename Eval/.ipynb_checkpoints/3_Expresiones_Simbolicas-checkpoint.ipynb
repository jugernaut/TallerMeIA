{
 "cells": [
  {
   "cell_type": "markdown",
   "id": "5782f249-c963-4e3b-ae37-8ed3461c415d",
   "metadata": {},
   "source": [
    "<h1 style=\"text-align: center; font-size: 3em; margin-bottom: 0.5em;\">\n",
    "  Evaluación de expresiones simbólicas\n",
    "</h1>\n",
    "\n",
    "<p>\n",
    "La evaluación de <strong>expresiones simbólicas</strong> permite comprobar respuestas equivalentes usando <code>SymPy</code> —por ejemplo, derivadas, integrales u otras transformaciones simbólicas— de forma totalmente automática.\n",
    "</p>\n",
    "\n",
    "<h2 style=\"font-size: 1.5em; margin-top: 1em;\">¿Cómo funciona?</h2>\n",
    "<ul style=\"font-size: 1em; line-height: 1.5;\">\n",
    "  <li>Se guarda la expresión de referencia como una cadena de texto.</li>\n",
    "  <li>Al evaluar, la cadena se convierte en un objeto SymPy con <code>sympy.sympify()</code>.</li>\n",
    "  <li>Se comparan ambas expresiones usando el método <code>equals()</code> de SymPy.</li>\n",
    "</ul>\n",
    "\n",
    "<h2 style=\"font-size: 1.5em; margin-top: 1em;\">¿Qué se puede personalizar?</h2>\n",
    "<ul style=\"font-size: 1em; line-height: 1.5;\">\n",
    "  <li>La propia expresión de referencia (por ejemplo, cambiar la derivada por una integral).</li>\n",
    "  <li>El nivel de detalle del feedback que recibe el estudiante.</li>\n",
    "</ul>\n",
    "\n",
    "---"
   ]
  },
  {
   "cell_type": "markdown",
   "id": "bd0d8523-fc56-4b37-9864-68d5042b57fe",
   "metadata": {},
   "source": [
    "## ¿Cómo se utiliza la evaluación de expresiones simbólicas?\n",
    "\n",
    "Para usar este tipo de evaluación se debe de ajustar dos partes del flujo de trabajo:\n",
    "\n",
    "1. **Registrar la expresión de referencia**  \n",
    "   Después de crear `FileAnswer()` y antes de llamar a `.to_file()`, define la expresión correcta como cadena:\n",
    "\n",
    "   ```python\n",
    "   # 1) Definir la expresión de referencia para el ejercicio '2'\n",
    "   from sympy import Symbol\n",
    "\n",
    "   x = Symbol('x')\n",
    "   expr = x**2  # ejemplo: la función cuya derivada queremos evaluar\n",
    "   ```\n",
    "   \n",
    "2. **Ejecutar la comparación con lo que envió el usuario**\n",
    "\n",
    "   ```python\n",
    "   file_answer.write(\n",
    "       '2',               # → ID del ejercicio\n",
    "       str(expr),        # → la expresión correcta como string\n",
    "       'Revisa la derivación simbólica.'  # → mensaje si el alumno falla\n",
    "   )\n",
    "\n",
    "   ```\n"
   ]
  },
  {
   "cell_type": "markdown",
   "id": "cec26e64-face-4b3e-8d4f-a8320d81fd1d",
   "metadata": {},
   "source": [
    "---\n",
    "## Ejemplos: evaluación de expresiones simbólicas\n",
    "\n",
    "A continuación se presentan ejemplos para el tipo de evaluación simbolica\n",
    "\n"
   ]
  },
  {
   "cell_type": "code",
   "execution_count": 1,
   "id": "340d7a5a-03db-4d86-a7fb-0eaf284a2fbf",
   "metadata": {},
   "outputs": [],
   "source": [
    "# Importamos los módulos necesarios para poder hacer uso de la biblioteca de MACTI\n",
    "from macti.eval import FileAnswer, Quiz \n",
    "import sympy as sy\n",
    "import numpy as np\n",
    "import pandas as pd"
   ]
  },
  {
   "cell_type": "code",
   "execution_count": 2,
   "id": "46f337ce-0c60-40e1-8766-8319cae9e3d2",
   "metadata": {},
   "outputs": [
    {
     "name": "stdout",
     "output_type": "stream",
     "text": [
      "El directorio :/home/jovyan/MACTI_LIB/.ans/Eval/ ya existe\n",
      "Respuestas y retroalimentación almacenadas.\n"
     ]
    }
   ],
   "source": [
    "# --- 1) Registrar las expresiones simbólicas (respuestas correctas) ---\n",
    "\n",
    "file_answer = FileAnswer()\n",
    "\n",
    "# Ejercicio '2': derivada de x*x\n",
    "x = sy.Symbol('x')\n",
    "derivada = x * x\n",
    "file_answer.write('2', str(derivada), 'Checa las reglas de derivación')\n",
    "\n",
    "# Ejercicio '3': forma cuadrática\n",
    "y = sy.Symbol('y')\n",
    "A = np.array([[0.10, -1.], [0.30, -1.]])\n",
    "B = np.array([-200, 20])\n",
    "forma_cuadratica = (\n",
    "    0.5 * A[0,0] * x**2\n",
    "  + 0.5 * A[1,1] * y**2\n",
    "  + 0.5 * (A[0,1] + A[1,0]) * x * y\n",
    "  - B[0] * x\n",
    "  - B[1] * y\n",
    ")\n",
    "file_answer.write('3', str(forma_cuadratica), 'Revisa tus operaciones algebraicas para calcular f(x)')\n",
    "\n",
    "# Ejercicio '4': integral de sin(x) dx\n",
    "int_sin = sy.integrate(sy.sin(x), x)\n",
    "file_answer.write('4', str(int_sin), 'Verifica tu resultado de la integral')\n",
    "\n",
    "# Ejercicio '5': simplificación de identidad trigonométrica\n",
    "expr_id = sy.sin(x)**2 + sy.cos(x)**2\n",
    "simplified = sy.simplify(expr_id)\n",
    "file_answer.write('5', str(simplified), 'Comprueba la identidad trigonométrica')\n",
    "\n",
    "# Ejercicio '6': serie de Taylor de e^x hasta orden 3\n",
    "series_exp = sy.series(sy.exp(x), x, 0, 4).removeO()\n",
    "file_answer.write('6', str(series_exp), 'Revisa tu serie de Taylor')\n",
    "\n",
    "# Ejercicio '7': derivada parcial ∂/∂y de x^2 * y^3\n",
    "partial_y = sy.diff(x**2 * y**3, y)\n",
    "file_answer.write('7', str(partial_y), 'Verifica tu derivada parcial')\n",
    "\n",
    "# 1.8) Exportar a Parquet para que Quiz pueda leerlo\n",
    "file_answer.to_file('test01')\n"
   ]
  },
  {
   "cell_type": "code",
   "execution_count": 3,
   "id": "ea6dc1f8-8621-48a0-9aaf-755c93e4a3ea",
   "metadata": {},
   "outputs": [
    {
     "name": "stdout",
     "output_type": "stream",
     "text": [
      "\u001b[39m――――――――――――――――――――――――――――――――――――――――\n",
      "\u001b[32m2 | Tu respuesta:\n"
     ]
    },
    {
     "data": {
      "text/latex": [
       "$\\displaystyle x^{2}$"
      ],
      "text/plain": [
       "x**2"
      ]
     },
     "metadata": {},
     "output_type": "display_data"
    },
    {
     "name": "stdout",
     "output_type": "stream",
     "text": [
      "\u001b[32mes correcta.\n",
      "\u001b[39m――――――――――――――――――――――――――――――――――――――――\n",
      "\u001b[39m――――――――――――――――――――――――――――――――――――――――\n",
      "\u001b[32m3 | Tu respuesta:\n"
     ]
    },
    {
     "data": {
      "text/latex": [
       "$\\displaystyle 0.05 x^{2} - 0.35 x y + 200 x - 0.5 y^{2} - 20 y$"
      ],
      "text/plain": [
       "0.05*x**2 - 0.35*x*y + 200*x - 0.5*y**2 - 20*y"
      ]
     },
     "metadata": {},
     "output_type": "display_data"
    },
    {
     "name": "stdout",
     "output_type": "stream",
     "text": [
      "\u001b[32mes correcta.\n",
      "\u001b[39m――――――――――――――――――――――――――――――――――――――――\n",
      "\u001b[39m――――――――――――――――――――――――――――――――――――――――\n",
      "\u001b[32m4 | Tu respuesta:\n"
     ]
    },
    {
     "data": {
      "text/latex": [
       "$\\displaystyle - \\cos{\\left(x \\right)}$"
      ],
      "text/plain": [
       "-cos(x)"
      ]
     },
     "metadata": {},
     "output_type": "display_data"
    },
    {
     "name": "stdout",
     "output_type": "stream",
     "text": [
      "\u001b[32mes correcta.\n",
      "\u001b[39m――――――――――――――――――――――――――――――――――――――――\n",
      "\u001b[39m――――――――――――――――――――――――――――――――――――――――\n",
      "\u001b[32m5 | Tu respuesta:\n"
     ]
    },
    {
     "data": {
      "text/latex": [
       "$\\displaystyle 1$"
      ],
      "text/plain": [
       "1"
      ]
     },
     "metadata": {},
     "output_type": "display_data"
    },
    {
     "name": "stdout",
     "output_type": "stream",
     "text": [
      "\u001b[32mes correcta.\n",
      "\u001b[39m――――――――――――――――――――――――――――――――――――――――\n",
      "\u001b[39m――――――――――――――――――――――――――――――――――――――――\n",
      "\u001b[32m6 | Tu respuesta:\n"
     ]
    },
    {
     "data": {
      "text/latex": [
       "$\\displaystyle \\frac{x^{3}}{6} + \\frac{x^{2}}{2} + x + 1$"
      ],
      "text/plain": [
       "x**3/6 + x**2/2 + x + 1"
      ]
     },
     "metadata": {},
     "output_type": "display_data"
    },
    {
     "name": "stdout",
     "output_type": "stream",
     "text": [
      "\u001b[32mes correcta.\n",
      "\u001b[39m――――――――――――――――――――――――――――――――――――――――\n",
      "\u001b[39m――――――――――――――――――――――――――――――――――――――――\n",
      "\u001b[32m7 | Tu respuesta:\n"
     ]
    },
    {
     "data": {
      "text/latex": [
       "$\\displaystyle 3 x^{2} y^{2}$"
      ],
      "text/plain": [
       "3*x**2*y**2"
      ]
     },
     "metadata": {},
     "output_type": "display_data"
    },
    {
     "name": "stdout",
     "output_type": "stream",
     "text": [
      "\u001b[32mes correcta.\n",
      "\u001b[39m――――――――――――――――――――――――――――――――――――――――\n"
     ]
    }
   ],
   "source": [
    "# --- 2) Evaluar las expresiones simbólicas con Quiz ---\n",
    "\n",
    "# 2.1 Inicializar Quiz (usa el mismo qnum que pasaste a to_file)\n",
    "quiz = Quiz(qnum='test01', server='local')  # Carga las expresiones de referencia\n",
    "\n",
    "# 2.2 Evaluar la derivada de x*x (ejercicio '2')\n",
    "quiz.eval_expression('2', derivada)\n",
    "\n",
    "# 2.3 Evaluar la forma cuadrática (ejercicio '3')\n",
    "quiz.eval_expression('3', forma_cuadratica)\n",
    "\n",
    "# 2.4 Evaluar la integral de sin(x) dx (ejercicio '4')\n",
    "quiz.eval_expression('4', int_sin)\n",
    "\n",
    "# 2.5 Evaluar la simplificación de la identidad sin²(x)+cos²(x) (ejercicio '5')\n",
    "quiz.eval_expression('5', simplified)\n",
    "\n",
    "# 2.6 Evaluar la serie de Taylor de e^x hasta orden 3 (ejercicio '6')\n",
    "quiz.eval_expression('6', series_exp)\n",
    "\n",
    "# 2.7 Evaluar la derivada parcial ∂/∂y de x²·y³ (ejercicio '7')\n",
    "quiz.eval_expression('7', partial_y)\n"
   ]
  },
  {
   "cell_type": "markdown",
   "id": "8da3b574-54c3-46a2-a99e-921983c53f7d",
   "metadata": {},
   "source": [
    "---\n",
    "## Conclusión: Evaluación de expresiones simbólicas\n",
    "\n",
    "La evaluación de expresiones simbólicas con la libreria de **macti_lib** nos permite:\n",
    "\n",
    "- **Definir de forma clara** la expresión de referencia como cadena de texto.  \n",
    "- **Automatizar** la comparación simbólica usando SymPy (`sympify()` + `equals()`), lo que detecta equivalencias algebraicas más allá de la forma literal.  \n",
    "- **Ofrecer feedback inmediato**, coloreando en verde las expresiones correctas y en rojo las incorrectas, acompañado de sugerencias para corregir errores de cálculo.  \n"
   ]
  }
 ],
 "metadata": {
  "kernelspec": {
   "display_name": "Python 3 (ipykernel)",
   "language": "python",
   "name": "python3"
  },
  "language_info": {
   "codemirror_mode": {
    "name": "ipython",
    "version": 3
   },
   "file_extension": ".py",
   "mimetype": "text/x-python",
   "name": "python",
   "nbconvert_exporter": "python",
   "pygments_lexer": "ipython3",
   "version": "3.11.6"
  }
 },
 "nbformat": 4,
 "nbformat_minor": 5
}
