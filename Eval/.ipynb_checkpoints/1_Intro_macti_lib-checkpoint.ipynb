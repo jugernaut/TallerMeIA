{
 "cells": [
  {
   "cell_type": "markdown",
   "id": "bd3174b6-0983-48df-b5f9-113f1b57c5eb",
   "metadata": {},
   "source": [
    "<h1 style=\"text-align: center; font-size: 3em;\">\n",
    "  Introducción a la biblioteca <code>macti_lib--eval</code>\n",
    "</h1>\n",
    "\n",
    "<code>macti_lib</code> es una biblioteca diseñada para facilitar la **evaluación automática**, en particular **eval**, de ejercicios dentro de entornos como Google Colab o Jupyter Notebook. La biblioteca está compuesta principalmente por dos elementos clave —<strong>FileAnswer</strong> y <strong>Quiz</strong>— con los cuales podemos capturar las respuestas de los estudiantes, almacenarlas en archivos Parquet y dar retroalimentación inmediata, detallada y configurable, todo ello sin salir del entorno.\n",
    "\n",
    "## ¿Para qué sirve?\n",
    "\n",
    "- Automatizar la evaluación de tareas prácticas  \n",
    "- Dar retroalimentación personalizada  \n",
    "- Aumentar la objetividad y eficiencia en la revisión  \n",
    "- Permitir múltiples tipos de respuestas (desde texto hasta estructuras complejas)\n",
    "\n",
    "## ¿Qué tipos de evaluación soporta?\n",
    "\n",
    "| Tipo                    | Método              | Ejemplo                             |\n",
    "|-------------------------|---------------------|--------------------------------------|\n",
    "| Opción múltiple         | `eval_option()`     | `'a'`, `'b'`, `'c'`, ...             |\n",
    "| Expresiones simbólicas  | `eval_expression()` | `x**2`, `sin(x)`                     |\n",
    "| Valores numéricos       | `eval_numeric()`    | `3.14`, `[1, 2, 3]`, `2 + 3j`        |\n",
    "| Estructuras de datos    | `eval_datastruct()` | `['a', 'b']`, `('x', 'y')`, `{1,2}`  |\n",
    "| Diccionarios            | `eval_dict()`       | `{1: 2.5}`, `{'k1': 'rojo'}`         |\n",
    "\n",
    "Durante este notebook conocerás cómo funciona internamente la biblioteca, con breves ejemplos de su uso.\n"
   ]
  },
  {
   "cell_type": "markdown",
   "id": "4478e4ee-8200-48de-bd36-f0bbf59f8261",
   "metadata": {},
   "source": [
    "<p>\n",
    "La biblioteca <code>macti_lib</code> está compuesta por dos clases principales: <code>FileAnswer</code> y <code>Quiz</code>, cada una con sus características particulares que se describen a continuación:\n",
    "</p>\n",
    "\n",
    "<ul>\n",
    "  <li>\n",
    "    La clase <strong>FileAnswer</strong> se encarga de <em>escribir</em> respuestas y comentarios en memoria, para luego almacenarlas en archivos de texto.\n",
    "    <ul style=\"font-size: 1em; line-height: 1.5;\">\n",
    "      <li>Almacena respuestas numéricas, simbólicas, listas, diccionarios y más.</li>\n",
    "      <li>Convierte arreglos <code>numpy</code> a vectores 1D y descompone diccionarios en longitudes, claves y valores.</li>\n",
    "      <li>Genera dos archivos por “quiz”: uno con respuestas (<code>.__ans_<em>qnum</em></code>) y otro con retroalimentación (<code>.__fee_<em>qnum</em></code>).</li>\n",
    "    </ul>\n",
    "  </li>\n",
    "\n",
    "  <li>\n",
    "    La clase <strong>Quiz</strong> es responsable de <em>leer</em> las respuestas almacenadas y de <em>evaluar</em> las respuestas del alumno.\n",
    "    Ofrece métodos para distintos tipos de preguntas:\n",
    "    <ul style=\"font-size: 1em; line-height: 1.5;\">\n",
    "      <li><code>eval_option</code>: opción múltiple, compara cadenas.</li>\n",
    "      <li><code>eval_expression</code>: expresiones simbólicas con <code>sympy</code>.</li>\n",
    "      <li><code>eval_numeric</code>: números y arreglos numéricos con tolerancia.</li>\n",
    "      <li><code>eval_datastruct</code>: listas y tuplas (con o sin orden).</li>\n",
    "      <li><code>eval_dict</code>: validación de diccionarios (tamaños, claves y valores).</li>\n",
    "    </ul>\n",
    "    Además, utiliza <code>colorama</code> para colorear la salida (verde para correcto, rojo para errores) y ofrece distintos niveles de verbosidad.\n",
    "  </li>\n",
    "</ul>\n"
   ]
  },
  {
   "cell_type": "markdown",
   "id": "ce5b3c68-a1f2-449c-9750-8cc136fc5d5f",
   "metadata": {},
   "source": [
    "<p>\n",
    "  <strong>¿Cómo empezar?</strong>\n",
    "</p>\n",
    "\n",
    "<ol style=\"font-size: 1em; line-height: 1.5;\">\n",
    "  <li>\n",
    "    Importa <code>evaluation</code> desde el repositorio <code>macti_lib</code>.\n",
    "  </li>\n",
    "  <li>\n",
    "    En nuestro notebook, creamos un objeto <code>FileAnswer()</code>.  \n",
    "    Utiliza el método <code>write(enum, respuesta, feedback)</code> para almacenar cada respuesta junto con su retroalimentación.  \n",
    "    Al finalizar, se guarda todo en archivos parquet usando el método <code>to_file(&lt;número_del_quiz&gt;)</code>.\n",
    "  </li>\n",
    "  <li>\n",
    "    Posteriormente, creamos un objeto <code>Quiz(&lt;número_del_quiz&gt;)</code> para cargar las respuestas almacenadas.  \n",
    "    Utilizamos los métodos <code>eval_*</code> (como <code>eval_option</code>, <code>eval_expression</code>, entre otros) para evaluar las respuestas de los estudiantes.\n",
    "  </li>\n",
    "  <li>\n",
    "    Ajustamos la propiedad <code>verb</code> (niveles 0, 1 o 2) para definir el nivel de detalle en la retroalimentación proporcionada a los alumnos:\n",
    "    <ul style=\"font-size: 1em; line-height: 1.5;\">\n",
    "      <li><strong>0:</strong> Solo indica si la respuesta es correcta o incorrecta.</li>\n",
    "      <li><strong>1:</strong> Muestra comentarios adicionales para ayudar al alumno.</li>\n",
    "      <li><strong>2:</strong> Proporciona información detallada sobre el error o la respuesta correcta.</li>\n",
    "    </ul>\n",
    "  </li>\n",
    "</ol>\n",
    "\n",
    "<p style=\"font-size: 0.9em; margin-top: 2em;\">\n",
    "  Con <code>macti_lib</code>, la evaluación en notebooks se vuelve más sencilla y práctica para poder realizar evaluaciones y ejercicios de una manera más eficiente.\n",
    "</p>\n",
    "\n",
    "---\n"
   ]
  },
  {
   "cell_type": "markdown",
   "id": "83db462a-bcba-4b6e-b184-4bef67902e21",
   "metadata": {},
   "source": [
    "## Flujo de trabajo general para hacer evaluaciones\n",
    "\n",
    "Para aprovechar las funciones de evaluación automática, es importante conocer el flujo de trabajo y los pasos necesarios para llevar a cabo la evaluación de manera exitosa.\n",
    "\n",
    "A continuación se muestran los dos pasos básicos para usar **macti_lib** en un notebook:\n",
    "\n",
    "---  \n",
    "\n",
    "\n",
    "1. **Registrar las respuestas correctas**  \n",
    "2. **Evaluar la respuesta del estudiante**\n",
    "\n",
    "### 1. Registrar respuestas correctas\n",
    "\n",
    "```python\n",
    "from macti.eval.file_answer import FileAnswer\n",
    "\n",
    "# 1.1 Inicializamos FileAnswer para almacenar:\n",
    "#    - enum: identificador del ejercicio\n",
    "#    - ans : respuesta correcta\n",
    "#    - feed: retroalimentación si el estudiante falla\n",
    "file_answer = FileAnswer()\n",
    "\n",
    "# 1.2 Almacenamos el ejercicio y la respuesta correcta\n",
    "#    file_answer.write(enum: str, ans: Any, feed: str)\n",
    "#      • enum (str): identificador del ejercicio (p. ej. '1', '2', …)\n",
    "#      • ans  (Any): respuesta correcta (p. ej. 'b', número, lista, etc.)\n",
    "#      • feed (str): mensaje de ayuda en caso de respuesta incorrecta\n",
    "file_answer.write(\n",
    "    '1',                              # enum: identificador del ejercicio\n",
    "    'b',                              # ans : respuesta correcta\n",
    "    'Recuerda revisar las opciones...'# feed: sugerencia si el alumno falla\n",
    ")\n",
    "\n",
    "# 1.3 – Exportar todo a disco en formato Parquet\n",
    "#    • .ans/<topic>/.__ans_quiz01   (archivo de respuestas)\n",
    "#    • .ans/<topic>/.__fee_quiz01   (archivo de feedback)\n",
    "file_answer.to_file('quiz01')"
   ]
  },
  {
   "cell_type": "markdown",
   "id": "4455d0da-2cef-492e-b56b-c7e867798900",
   "metadata": {},
   "source": [
    "### 2. Evaluar la respuesta del estudiante\n",
    "\n",
    "Para comprobar las respuestas con **macti_lib**, instanciamos `Quiz` y usamos el método `eval_option`:\n",
    "\n",
    "```python\n",
    "from macti.eval.quiz import Quiz\n",
    "\n",
    "# 2.1 Inicializar Quiz:\n",
    "#    - qnum   (str): debe coincidir con el valor de file_answer.to_file('quiz01')\n",
    "#    - server (str): ubicación de los archivos Parquet ('local' o 'hub')\n",
    "quiz = Quiz(qnum='quiz01', server='local')\n",
    "\n",
    "# 2.2 Evaluar la respuesta del alumno:\n",
    "#    - enum (str): identificador del ejercicio ('1')\n",
    "#    - ans  (str): respuesta proporcionada por el estudiante ('b')\n",
    "quiz.eval_option('1', 'b')\n"
   ]
  },
  {
   "cell_type": "markdown",
   "id": "1d14066e-8fe5-4383-866d-962f8f461031",
   "metadata": {},
   "source": [
    "---\n",
    "## Ejemplo práctico de uso de **macti_lib**\n",
    "\n",
    "A continuación, se explica paso a paso en qué consiste este fragmento de código y cómo aprovecha la biblioteca:\n",
    "\n"
   ]
  },
  {
   "cell_type": "code",
   "execution_count": 14,
   "id": "57153ec5-99b6-4cef-9cf5-5abc0d64b83b",
   "metadata": {},
   "outputs": [],
   "source": [
    "# Importamos los módulos necesarios para poder hacer uso de la biblioteca de MACTI\n",
    "from macti.eval import FileAnswer, Quiz \n",
    "import sympy as sy\n",
    "import numpy as np\n",
    "import pandas as pd"
   ]
  },
  {
   "cell_type": "code",
   "execution_count": 15,
   "id": "69511362-20a6-4f27-a15a-50d9416ffb53",
   "metadata": {},
   "outputs": [
    {
     "name": "stdout",
     "output_type": "stream",
     "text": [
      "El directorio :/home/jovyan/MACTI_LIB/.ans/Eval/ ya existe\n",
      "Respuestas y retroalimentación almacenadas.\n"
     ]
    }
   ],
   "source": [
    "# 1) Inicializar el FileAnswer (recolector de respuestas) \n",
    "file_answer = FileAnswer()\n",
    "\n",
    "# 2) Registrar una pregunta de opción múltiple:\n",
    "#    • '1' → identificador del ejercicio.\n",
    "#    • 'c' → respuesta correcta.\n",
    "#    • 'Revisa tus opciones.' → retroalimentación en caso de error.\n",
    "file_answer.write('1', 'c', 'Revisa tus opciones.')\n",
    "\n",
    "# 3) Registrar una pregunta de expresión simbólica:\n",
    "#    • Definimos el símbolo x con SymPy.\n",
    "#    • Guardamos \"x**2\" como cadena para evaluación simbólica.\n",
    "x = sy.Symbol('x')\n",
    "file_answer.write('2', str(x**2), 'Deriva correctamente.')\n",
    "\n",
    "# 4) Registrar una pregunta de valor numérico:\n",
    "#    • '3' → identificador del ejercicio.\n",
    "#    • 3.1416 → valor correcto.\n",
    "#    • 'Calcula con mayor precisión.' → retroalimentación si la aproximación es imprecisa.\n",
    "file_answer.write('3', 3.1416, 'Calcula con mayor precisión.')\n",
    "\n",
    "# 5) Registrar una pregunta de estructura de datos (lista):\n",
    "#    • '4' → identificador del ejercicio.\n",
    "#    • ['a', 'b', 'c'] → lista esperada (el orden importa).\n",
    "#    • 'Revisa el orden.' → retroalimentación si el orden difiere.\n",
    "file_answer.write('4', ['a', 'b', 'c'], 'Revisa el orden.')\n",
    "\n",
    "# 6) Registrar una pregunta de diccionario:\n",
    "#    • '5' → identificador del ejercicio.\n",
    "#    • {1: 2.0, 2: 4.0} → diccionario con claves y valores correctos.\n",
    "#    • 'Revisa claves y valores.' → retroalimentación si falta o está mal algún par.\n",
    "file_answer.write('5', {1: 2.0, 2: 4.0}, 'Revisa claves y valores.')\n",
    "\n",
    "# 7) Exportar todas las respuestas y retroalimentación a un archivo de texto:\n",
    "#    • crea \".ans/<topic>/.__ans_intro_demo\" y \".ans/<topic>/.__fee_intro_demo\".\n",
    "file_answer.to_file('intro_demo')\n"
   ]
  },
  {
   "cell_type": "code",
   "execution_count": 16,
   "id": "5bc6eef7-fdb5-4463-98ea-486a24fae2f3",
   "metadata": {},
   "outputs": [
    {
     "name": "stdout",
     "output_type": "stream",
     "text": [
      "\u001b[39m――――――――――――――――――――――――――――――――――――――――\n",
      "\u001b[32m1 | Tu respuesta: \u001b[39mc\u001b[32m, es correcta.\n",
      "\u001b[39m――――――――――――――――――――――――――――――――――――――――\n",
      "\u001b[39m――――――――――――――――――――――――――――――――――――――――\n",
      "\u001b[32m2 | Tu respuesta:\n"
     ]
    },
    {
     "data": {
      "text/latex": [
       "$\\displaystyle x^{2}$"
      ],
      "text/plain": [
       "x**2"
      ]
     },
     "metadata": {},
     "output_type": "display_data"
    },
    {
     "name": "stdout",
     "output_type": "stream",
     "text": [
      "\u001b[32mes correcta.\n",
      "\u001b[39m――――――――――――――――――――――――――――――――――――――――\n",
      "\u001b[39m――――――――――――――――――――――――――――――――――――――――\n",
      "\u001b[32m3 | Tu resultado es correcto.\n",
      "\u001b[39m――――――――――――――――――――――――――――――――――――――――\n",
      "\u001b[39m――――――――――――――――――――――――――――――――――――――――\n",
      "\u001b[32m4 | Tu resultado es correcto.\n",
      "\u001b[39m――――――――――――――――――――――――――――――――――――――――\n",
      "\u001b[39m――――――――――――――――――――――――――――――――――――――――\n",
      "\u001b[32m5_val_1 | Tu resultado es correcto.\n",
      "\u001b[39m――――――――――――――――――――――――――――――――――――――――\n"
     ]
    }
   ],
   "source": [
    "# 2) Evaluar las respuestas con Quiz (suponiendo que Quiz y sympy ya estén importados)\n",
    "\n",
    "# 2.1 Inicializar Quiz con los archivos generados por FileAnswer\n",
    "quiz = Quiz(qnum='intro_demo', server='local')  # Carga respuestas y retroalimentación desde Parquet\n",
    "\n",
    "# 2.2 Opción múltiple (ejercicio '1')\n",
    "quiz.eval_option('1', 'c')\n",
    "#    • Compara la respuesta del alumno ('c') con la correcta registrada.\n",
    "\n",
    "# 2.3 Expresión simbólica (ejercicio '2')\n",
    "quiz.eval_expression('2', sy.sympify('x**2'))\n",
    "#    • Convierte 'x**2' a expresión de SymPy y la compara simbólicamente.\n",
    "\n",
    "# 2.4 Valor numérico (ejercicio '3')\n",
    "quiz.eval_numeric('3', 3.1416)\n",
    "#    • Verifica que el valor entregado esté dentro de la tolerancia establecida.\n",
    "\n",
    "# 2.5 Estructura de datos: lista ordenada (ejercicio '4')\n",
    "quiz.eval_datastruct('4', ['a', 'b', 'c'])\n",
    "#    • Comprueba que la lista coincida exactamente y en el orden correcto.\n",
    "\n",
    "# 2.6 Diccionario numérico (ejercicio '5')\n",
    "quiz.eval_dict('5', {1: 2.0, 2: 4.0}, numeric=True)\n",
    "#    • Valida que las claves y valores coincidan con tolerancia numérica.\n"
   ]
  },
  {
   "cell_type": "markdown",
   "id": "b80b7522-3ca2-4373-b140-493056522203",
   "metadata": {},
   "source": [
    "## Conclusión\n",
    "\n",
    "Con estos pasos —registrar las respuestas correctas con `FileAnswer`, exportarlas a un archivo de texto y luego evaluarlas con `Quiz`— es posible automatizar el proceso de calificación en notebooks. La biblioteca de **macti_lib** cuenta con la capacidad de manejar diferentes tipos de preguntas (opción múltiple, expresiones simbólicas, valores numéricos, estructuras de datos y diccionarios), y ofrece retroalimentación directa al estudiante, ahorrando tiempo y asegurando consistencia en la evaluación.\n"
   ]
  }
 ],
 "metadata": {
  "kernelspec": {
   "display_name": "Python 3 (ipykernel)",
   "language": "python",
   "name": "python3"
  },
  "language_info": {
   "codemirror_mode": {
    "name": "ipython",
    "version": 3
   },
   "file_extension": ".py",
   "mimetype": "text/x-python",
   "name": "python",
   "nbconvert_exporter": "python",
   "pygments_lexer": "ipython3",
   "version": "3.11.6"
  }
 },
 "nbformat": 4,
 "nbformat_minor": 5
}
